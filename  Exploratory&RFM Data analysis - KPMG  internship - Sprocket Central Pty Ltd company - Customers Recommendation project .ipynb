{
 "cells": [
  {
   "cell_type": "markdown",
   "metadata": {},
   "source": [
    "# Sprocket Central Pty Ltd company: Customers Recommendation project - Exploratory Data analysis"
   ]
  },
  {
   "cell_type": "markdown",
   "metadata": {},
   "source": [
    "<img src=\"sprocket_central.png\" width=\"600\" />"
   ]
  },
  {
   "cell_type": "markdown",
   "metadata": {},
   "source": [
    "### About the Dataset & objective of the report"
   ]
  },
  {
   "cell_type": "markdown",
   "metadata": {},
   "source": [
    "**Sprocket Central Pty Ltd**, a medium size bikes & cycling accessories organisation which has a large dataset relating to its customers, but their team is unsure how to effectively analyse it to help optimise its marketing strategy. \n",
    "\n",
    "Primarily, Sprocket Central Pty Ltd needs help with its customer and transactions data. \n",
    "\n",
    "The client provided us with 3 datasets:\n",
    "\n",
    "**Customer Demographic**\n",
    "\n",
    "**Customer Addresses**\n",
    "\n",
    "**Transactions data in the past 3 months**\n",
    "\n",
    "I have conducted a data cleaning process on each dataset and joined them together.\n",
    "\n",
    "i will start data exploration to answer following questions.\n",
    "\n",
    "What are the trends in the underlying data?\n",
    "\n",
    "Which customer segment has the highest customer value?\n",
    "\n",
    "What do you propose should be Sprocket Central Pty Ltd ’s marketing and growth strategy?\n"
   ]
  },
  {
   "cell_type": "code",
   "execution_count": 1,
   "metadata": {},
   "outputs": [],
   "source": [
    "# Import Libraries\n",
    "\n",
    "import pandas as pd\n",
    "import numpy as np\n",
    "import seaborn as sns\n",
    "import datetime as dt\n",
    "import matplotlib.pyplot as plt\n",
    "%matplotlib inline\n",
    "import calendar\n",
    "pd.set_option('display.expand_frame_repr', False)"
   ]
  },
  {
   "cell_type": "code",
   "execution_count": 2,
   "metadata": {
    "scrolled": true
   },
   "outputs": [],
   "source": [
    "#Importing Final dataset\n",
    "\n",
    "CTA=pd.read_csv('CTA_wrangling.csv')"
   ]
  },
  {
   "cell_type": "code",
   "execution_count": 3,
   "metadata": {},
   "outputs": [
    {
     "name": "stdout",
     "output_type": "stream",
     "text": [
      "<class 'pandas.core.frame.DataFrame'>\n",
      "RangeIndex: 19327 entries, 0 to 19326\n",
      "Data columns (total 34 columns):\n",
      " #   Column                               Non-Null Count  Dtype  \n",
      "---  ------                               --------------  -----  \n",
      " 0   Unnamed: 0                           19327 non-null  int64  \n",
      " 1   transaction_id                       19327 non-null  int64  \n",
      " 2   product_id                           19327 non-null  int64  \n",
      " 3   customer_id                          19327 non-null  int64  \n",
      " 4   transaction_date                     19327 non-null  object \n",
      " 5   online_order                         19327 non-null  bool   \n",
      " 6   order_status                         19327 non-null  object \n",
      " 7   brand                                19327 non-null  object \n",
      " 8   product_line                         19327 non-null  object \n",
      " 9   product_class                        19327 non-null  object \n",
      " 10  product_size                         19327 non-null  object \n",
      " 11  list_price                           19327 non-null  float64\n",
      " 12  standard_cost                        19327 non-null  float64\n",
      " 13  Transaction_year                     19327 non-null  int64  \n",
      " 14  Transaction_month                    19327 non-null  object \n",
      " 15  Transaction_day                      19327 non-null  int64  \n",
      " 16  day_of_the_week                      19327 non-null  object \n",
      " 17  first_name                           19327 non-null  object \n",
      " 18  last_name                            18705 non-null  object \n",
      " 19  gender                               19327 non-null  object \n",
      " 20  past_3_years_bike_related_purchases  19327 non-null  int64  \n",
      " 21  job_title                            19327 non-null  object \n",
      " 22  job_industry_category                19327 non-null  object \n",
      " 23  wealth_segment                       19327 non-null  object \n",
      " 24  deceased_indicator                   19327 non-null  object \n",
      " 25  owns_car                             19327 non-null  object \n",
      " 26  tenure                               19327 non-null  float64\n",
      " 27  Year of birth                        19327 non-null  float64\n",
      " 28  Age                                  19327 non-null  float64\n",
      " 29  address                              19327 non-null  object \n",
      " 30  postcode                             19327 non-null  int64  \n",
      " 31  state                                19327 non-null  object \n",
      " 32  country                              19327 non-null  object \n",
      " 33  property_valuation                   19327 non-null  int64  \n",
      "dtypes: bool(1), float64(5), int64(9), object(19)\n",
      "memory usage: 4.9+ MB\n"
     ]
    }
   ],
   "source": [
    "CTA.info()"
   ]
  },
  {
   "cell_type": "code",
   "execution_count": 4,
   "metadata": {},
   "outputs": [],
   "source": [
    "# ammending column data types\n",
    "\n",
    "CTA['transaction_id']=CTA['transaction_id'].astype(str)\n",
    "CTA['product_id']=CTA['product_id'].astype(str)\n",
    "CTA['customer_id']=CTA['customer_id'].astype(str)\n",
    "CTA['transaction_date']=pd.to_datetime(CTA['transaction_date'])\n",
    "CTA['Transaction_day']=pd.to_datetime(CTA['Transaction_day'])\n",
    "CTA['Transaction_year']=pd.to_datetime(CTA['Transaction_year'])  \n",
    "CTA['postcode']=CTA['postcode'].astype(str)                          "
   ]
  },
  {
   "cell_type": "code",
   "execution_count": 5,
   "metadata": {},
   "outputs": [],
   "source": [
    "# Dropping uneccessary column\n",
    "\n",
    "CTA.drop('Unnamed: 0',axis=1,inplace=True)"
   ]
  },
  {
   "cell_type": "markdown",
   "metadata": {},
   "source": [
    "# Exploratory data analysis"
   ]
  },
  {
   "cell_type": "code",
   "execution_count": 6,
   "metadata": {},
   "outputs": [
    {
     "data": {
      "text/html": [
       "<div>\n",
       "<style scoped>\n",
       "    .dataframe tbody tr th:only-of-type {\n",
       "        vertical-align: middle;\n",
       "    }\n",
       "\n",
       "    .dataframe tbody tr th {\n",
       "        vertical-align: top;\n",
       "    }\n",
       "\n",
       "    .dataframe thead th {\n",
       "        text-align: right;\n",
       "    }\n",
       "</style>\n",
       "<table border=\"1\" class=\"dataframe\">\n",
       "  <thead>\n",
       "    <tr style=\"text-align: right;\">\n",
       "      <th></th>\n",
       "      <th>list_price</th>\n",
       "      <th>standard_cost</th>\n",
       "      <th>past_3_years_bike_related_purchases</th>\n",
       "      <th>tenure</th>\n",
       "      <th>Year of birth</th>\n",
       "      <th>Age</th>\n",
       "      <th>property_valuation</th>\n",
       "    </tr>\n",
       "  </thead>\n",
       "  <tbody>\n",
       "    <tr>\n",
       "      <th>count</th>\n",
       "      <td>19327.000000</td>\n",
       "      <td>19327.000000</td>\n",
       "      <td>19327.000000</td>\n",
       "      <td>19327.000000</td>\n",
       "      <td>19327.000000</td>\n",
       "      <td>19327.000000</td>\n",
       "      <td>19327.000000</td>\n",
       "    </tr>\n",
       "    <tr>\n",
       "      <th>mean</th>\n",
       "      <td>1106.447654</td>\n",
       "      <td>555.749864</td>\n",
       "      <td>48.937135</td>\n",
       "      <td>10.680499</td>\n",
       "      <td>1977.140787</td>\n",
       "      <td>43.394681</td>\n",
       "      <td>7.516014</td>\n",
       "    </tr>\n",
       "    <tr>\n",
       "      <th>std</th>\n",
       "      <td>582.891952</td>\n",
       "      <td>405.716005</td>\n",
       "      <td>28.644584</td>\n",
       "      <td>5.672739</td>\n",
       "      <td>12.599922</td>\n",
       "      <td>12.604134</td>\n",
       "      <td>2.826879</td>\n",
       "    </tr>\n",
       "    <tr>\n",
       "      <th>min</th>\n",
       "      <td>12.010000</td>\n",
       "      <td>7.210000</td>\n",
       "      <td>0.000000</td>\n",
       "      <td>1.000000</td>\n",
       "      <td>1931.000000</td>\n",
       "      <td>19.000000</td>\n",
       "      <td>1.000000</td>\n",
       "    </tr>\n",
       "    <tr>\n",
       "      <th>25%</th>\n",
       "      <td>575.270000</td>\n",
       "      <td>215.140000</td>\n",
       "      <td>24.000000</td>\n",
       "      <td>6.000000</td>\n",
       "      <td>1968.000000</td>\n",
       "      <td>34.000000</td>\n",
       "      <td>6.000000</td>\n",
       "    </tr>\n",
       "    <tr>\n",
       "      <th>50%</th>\n",
       "      <td>1163.890000</td>\n",
       "      <td>507.580000</td>\n",
       "      <td>48.000000</td>\n",
       "      <td>11.000000</td>\n",
       "      <td>1977.000000</td>\n",
       "      <td>43.000000</td>\n",
       "      <td>8.000000</td>\n",
       "    </tr>\n",
       "    <tr>\n",
       "      <th>75%</th>\n",
       "      <td>1635.300000</td>\n",
       "      <td>795.100000</td>\n",
       "      <td>73.000000</td>\n",
       "      <td>15.000000</td>\n",
       "      <td>1987.000000</td>\n",
       "      <td>53.000000</td>\n",
       "      <td>10.000000</td>\n",
       "    </tr>\n",
       "    <tr>\n",
       "      <th>max</th>\n",
       "      <td>2091.470000</td>\n",
       "      <td>1759.850000</td>\n",
       "      <td>99.000000</td>\n",
       "      <td>22.000000</td>\n",
       "      <td>2002.000000</td>\n",
       "      <td>89.000000</td>\n",
       "      <td>12.000000</td>\n",
       "    </tr>\n",
       "  </tbody>\n",
       "</table>\n",
       "</div>"
      ],
      "text/plain": [
       "         list_price  standard_cost  past_3_years_bike_related_purchases        tenure  Year of birth           Age  property_valuation\n",
       "count  19327.000000   19327.000000                         19327.000000  19327.000000   19327.000000  19327.000000        19327.000000\n",
       "mean    1106.447654     555.749864                            48.937135     10.680499    1977.140787     43.394681            7.516014\n",
       "std      582.891952     405.716005                            28.644584      5.672739      12.599922     12.604134            2.826879\n",
       "min       12.010000       7.210000                             0.000000      1.000000    1931.000000     19.000000            1.000000\n",
       "25%      575.270000     215.140000                            24.000000      6.000000    1968.000000     34.000000            6.000000\n",
       "50%     1163.890000     507.580000                            48.000000     11.000000    1977.000000     43.000000            8.000000\n",
       "75%     1635.300000     795.100000                            73.000000     15.000000    1987.000000     53.000000           10.000000\n",
       "max     2091.470000    1759.850000                            99.000000     22.000000    2002.000000     89.000000           12.000000"
      ]
     },
     "execution_count": 6,
     "metadata": {},
     "output_type": "execute_result"
    }
   ],
   "source": [
    "#numerical Data statistics\n",
    "\n",
    "CTA.describe()"
   ]
  },
  {
   "cell_type": "markdown",
   "metadata": {},
   "source": [
    "# Checking For correlations between numerical variables"
   ]
  },
  {
   "cell_type": "code",
   "execution_count": 7,
   "metadata": {},
   "outputs": [
    {
     "data": {
      "text/html": [
       "<div>\n",
       "<style scoped>\n",
       "    .dataframe tbody tr th:only-of-type {\n",
       "        vertical-align: middle;\n",
       "    }\n",
       "\n",
       "    .dataframe tbody tr th {\n",
       "        vertical-align: top;\n",
       "    }\n",
       "\n",
       "    .dataframe thead th {\n",
       "        text-align: right;\n",
       "    }\n",
       "</style>\n",
       "<table border=\"1\" class=\"dataframe\">\n",
       "  <thead>\n",
       "    <tr style=\"text-align: right;\">\n",
       "      <th></th>\n",
       "      <th>online_order</th>\n",
       "      <th>list_price</th>\n",
       "      <th>standard_cost</th>\n",
       "      <th>past_3_years_bike_related_purchases</th>\n",
       "      <th>tenure</th>\n",
       "      <th>Year of birth</th>\n",
       "      <th>Age</th>\n",
       "      <th>property_valuation</th>\n",
       "    </tr>\n",
       "  </thead>\n",
       "  <tbody>\n",
       "    <tr>\n",
       "      <th>online_order</th>\n",
       "      <td>1.000000</td>\n",
       "      <td>0.000822</td>\n",
       "      <td>0.008342</td>\n",
       "      <td>0.003343</td>\n",
       "      <td>0.012068</td>\n",
       "      <td>0.002679</td>\n",
       "      <td>-0.003162</td>\n",
       "      <td>-0.005538</td>\n",
       "    </tr>\n",
       "    <tr>\n",
       "      <th>list_price</th>\n",
       "      <td>0.000822</td>\n",
       "      <td>1.000000</td>\n",
       "      <td>0.552508</td>\n",
       "      <td>0.007134</td>\n",
       "      <td>-0.006266</td>\n",
       "      <td>0.003404</td>\n",
       "      <td>-0.003211</td>\n",
       "      <td>-0.010833</td>\n",
       "    </tr>\n",
       "    <tr>\n",
       "      <th>standard_cost</th>\n",
       "      <td>0.008342</td>\n",
       "      <td>0.552508</td>\n",
       "      <td>1.000000</td>\n",
       "      <td>-0.009396</td>\n",
       "      <td>-0.014644</td>\n",
       "      <td>-0.000065</td>\n",
       "      <td>-0.000045</td>\n",
       "      <td>-0.000449</td>\n",
       "    </tr>\n",
       "    <tr>\n",
       "      <th>past_3_years_bike_related_purchases</th>\n",
       "      <td>0.003343</td>\n",
       "      <td>0.007134</td>\n",
       "      <td>-0.009396</td>\n",
       "      <td>1.000000</td>\n",
       "      <td>-0.021690</td>\n",
       "      <td>0.040243</td>\n",
       "      <td>-0.039971</td>\n",
       "      <td>0.012233</td>\n",
       "    </tr>\n",
       "    <tr>\n",
       "      <th>tenure</th>\n",
       "      <td>0.012068</td>\n",
       "      <td>-0.006266</td>\n",
       "      <td>-0.014644</td>\n",
       "      <td>-0.021690</td>\n",
       "      <td>1.000000</td>\n",
       "      <td>-0.442701</td>\n",
       "      <td>0.441763</td>\n",
       "      <td>-0.018756</td>\n",
       "    </tr>\n",
       "    <tr>\n",
       "      <th>Year of birth</th>\n",
       "      <td>0.002679</td>\n",
       "      <td>0.003404</td>\n",
       "      <td>-0.000065</td>\n",
       "      <td>0.040243</td>\n",
       "      <td>-0.442701</td>\n",
       "      <td>1.000000</td>\n",
       "      <td>-0.999217</td>\n",
       "      <td>-0.012802</td>\n",
       "    </tr>\n",
       "    <tr>\n",
       "      <th>Age</th>\n",
       "      <td>-0.003162</td>\n",
       "      <td>-0.003211</td>\n",
       "      <td>-0.000045</td>\n",
       "      <td>-0.039971</td>\n",
       "      <td>0.441763</td>\n",
       "      <td>-0.999217</td>\n",
       "      <td>1.000000</td>\n",
       "      <td>0.013601</td>\n",
       "    </tr>\n",
       "    <tr>\n",
       "      <th>property_valuation</th>\n",
       "      <td>-0.005538</td>\n",
       "      <td>-0.010833</td>\n",
       "      <td>-0.000449</td>\n",
       "      <td>0.012233</td>\n",
       "      <td>-0.018756</td>\n",
       "      <td>-0.012802</td>\n",
       "      <td>0.013601</td>\n",
       "      <td>1.000000</td>\n",
       "    </tr>\n",
       "  </tbody>\n",
       "</table>\n",
       "</div>"
      ],
      "text/plain": [
       "                                     online_order  list_price  standard_cost  past_3_years_bike_related_purchases    tenure  Year of birth       Age  property_valuation\n",
       "online_order                             1.000000    0.000822       0.008342                             0.003343  0.012068       0.002679 -0.003162           -0.005538\n",
       "list_price                               0.000822    1.000000       0.552508                             0.007134 -0.006266       0.003404 -0.003211           -0.010833\n",
       "standard_cost                            0.008342    0.552508       1.000000                            -0.009396 -0.014644      -0.000065 -0.000045           -0.000449\n",
       "past_3_years_bike_related_purchases      0.003343    0.007134      -0.009396                             1.000000 -0.021690       0.040243 -0.039971            0.012233\n",
       "tenure                                   0.012068   -0.006266      -0.014644                            -0.021690  1.000000      -0.442701  0.441763           -0.018756\n",
       "Year of birth                            0.002679    0.003404      -0.000065                             0.040243 -0.442701       1.000000 -0.999217           -0.012802\n",
       "Age                                     -0.003162   -0.003211      -0.000045                            -0.039971  0.441763      -0.999217  1.000000            0.013601\n",
       "property_valuation                      -0.005538   -0.010833      -0.000449                             0.012233 -0.018756      -0.012802  0.013601            1.000000"
      ]
     },
     "execution_count": 7,
     "metadata": {},
     "output_type": "execute_result"
    }
   ],
   "source": [
    "CTA.corr()"
   ]
  },
  {
   "cell_type": "markdown",
   "metadata": {},
   "source": [
    "There are no noticable correlation in the data"
   ]
  },
  {
   "cell_type": "code",
   "execution_count": 8,
   "metadata": {
    "scrolled": true
   },
   "outputs": [
    {
     "data": {
      "image/png": "[encoded data removed]",
      "text/plain": [
       "<Figure size 1152x1728 with 10 Axes>"
      ]
     },
     "metadata": {
      "needs_background": "light"
     },
     "output_type": "display_data"
    }
   ],
   "source": [
    "#plotting a histogram to check the distribution of data and how it frequents along the dataset\n",
    "\n",
    "CTA.hist(['list_price','standard_cost','past_3_years_bike_related_purchases','tenure'],figsize=(16,24),layout=(5,2),alpha=0.75,facecolor='g');"
   ]
  },
  {
   "cell_type": "markdown",
   "metadata": {},
   "source": [
    "Observations:\n",
    "\n",
    "1. List prices varies mostly between 1000 and 1500\n",
    "2. Standard cost varies mostly less than 250\n",
    "3. purchases in the last 3 years are from 35  to 40 purchases i most cases but there is no specific trend shown here \n",
    "4. Data doesn't seem to have outlires in it"
   ]
  },
  {
   "cell_type": "markdown",
   "metadata": {},
   "source": [
    "# Analyzing online orders vs. instore orders"
   ]
  },
  {
   "cell_type": "code",
   "execution_count": 9,
   "metadata": {},
   "outputs": [
    {
     "data": {
      "text/plain": [
       "online_order\n",
       "True     9851\n",
       "False    9476\n",
       "Name: transaction_id, dtype: int64"
      ]
     },
     "execution_count": 9,
     "metadata": {},
     "output_type": "execute_result"
    }
   ],
   "source": [
    "# The number of orders made online and instore\n",
    "\n",
    "CTA.groupby('online_order')['transaction_id'].count().sort_values(ascending=False)"
   ]
  },
  {
   "cell_type": "code",
   "execution_count": 10,
   "metadata": {},
   "outputs": [
    {
     "data": {
      "image/png": "[encoded data removed]",
      "text/plain": [
       "<Figure size 792x360 with 1 Axes>"
      ]
     },
     "metadata": {
      "needs_background": "light"
     },
     "output_type": "display_data"
    }
   ],
   "source": [
    "plt.figure(figsize=(11,5));\n",
    "sns.countplot(CTA['online_order']);\n",
    "plt.title('oline orders vs. instore orders',size=15)\n",
    "plt.xlabel('online order',size=15);\n",
    "plt.ylabel('orders count',size=15);"
   ]
  },
  {
   "cell_type": "code",
   "execution_count": 11,
   "metadata": {
    "scrolled": true
   },
   "outputs": [
    {
     "data": {
      "text/plain": [
       "online_order\n",
       "True     10904246.46\n",
       "False    10480067.35\n",
       "Name: list_price, dtype: float64"
      ]
     },
     "execution_count": 11,
     "metadata": {},
     "output_type": "execute_result"
    }
   ],
   "source": [
    "# The amount of sales in each method \n",
    "\n",
    "CTA.groupby('online_order')['list_price'].sum().sort_values(ascending=False)"
   ]
  },
  {
   "cell_type": "code",
   "execution_count": 12,
   "metadata": {},
   "outputs": [
    {
     "data": {
      "text/plain": [
       "online_order  brand         \n",
       "False         Giant Bicycles    1933421.14\n",
       "              Norco Bicycles    1301627.82\n",
       "              OHM Cycles        1366460.78\n",
       "              Solex             2206276.03\n",
       "              Trek Bicycles     1697090.88\n",
       "              WeareA2B          1975190.70\n",
       "True          Giant Bicycles    2058395.86\n",
       "              Norco Bicycles    1276515.33\n",
       "              OHM Cycles        1558156.34\n",
       "              Solex             2192041.97\n",
       "              Trek Bicycles     1757637.05\n",
       "              WeareA2B          2061499.91\n",
       "Name: list_price, dtype: float64"
      ]
     },
     "execution_count": 12,
     "metadata": {},
     "output_type": "execute_result"
    }
   ],
   "source": [
    "# What are the most sold products online?\n",
    "\n",
    "CTA.groupby(['online_order','brand'])['list_price'].sum()"
   ]
  },
  {
   "cell_type": "code",
   "execution_count": 13,
   "metadata": {},
   "outputs": [
    {
     "data": {
      "image/png": "[encoded data removed]",
      "text/plain": [
       "<Figure size 720x360 with 1 Axes>"
      ]
     },
     "metadata": {
      "needs_background": "light"
     },
     "output_type": "display_data"
    }
   ],
   "source": [
    "colors = ['#1f77b4', '#ff7f0e', '#2ca02c', '#d62728', '#9467bd',\n",
    "          '#8c564b', '#e377c2', '#7f7f7f', '#bcbd22', '#17becf'];\n",
    "plt.figure(figsize=(10,5));\n",
    "CTA.groupby(['online_order','brand'])['list_price'].sum().plot.bar(color=colors,alpha=0.75);\n",
    "plt.title('most sold products online',size=15)\n",
    "plt.xlabel('online vs instore orders ',size=15);\n",
    "plt.ylabel('orders count',size=15);"
   ]
  },
  {
   "cell_type": "code",
   "execution_count": 14,
   "metadata": {},
   "outputs": [
    {
     "data": {
      "text/plain": [
       "online_order  state          \n",
       "False         NSW                4819\n",
       "              VIC                2135\n",
       "              QLD                2029\n",
       "              New South Wales     250\n",
       "              Victoria            243\n",
       "True          NSW                5036\n",
       "              VIC                2267\n",
       "              QLD                2106\n",
       "              New South Wales     222\n",
       "              Victoria            220\n",
       "Name: state, dtype: int64"
      ]
     },
     "execution_count": 14,
     "metadata": {},
     "output_type": "execute_result"
    }
   ],
   "source": [
    "# Which state with the highest number fo purchases online and which is in store?\n",
    "\n",
    "CTA.groupby('online_order')['state'].value_counts()"
   ]
  },
  {
   "cell_type": "code",
   "execution_count": 15,
   "metadata": {},
   "outputs": [
    {
     "data": {
      "image/png": "[encoded data removed]",
      "text/plain": [
       "<Figure size 720x360 with 1 Axes>"
      ]
     },
     "metadata": {
      "needs_background": "light"
     },
     "output_type": "display_data"
    }
   ],
   "source": [
    "plt.figure(figsize=(10,5));\n",
    "CTA.groupby('online_order')['state'].value_counts().plot.barh(color=(0.2, 0.4, 0.6, 0.6));\n",
    "plt.title('most sold products online',size=15)\n",
    "plt.xlabel('online order & state ',size=15);\n",
    "plt.ylabel('orders count',size=15);"
   ]
  },
  {
   "cell_type": "code",
   "execution_count": 16,
   "metadata": {},
   "outputs": [
    {
     "data": {
      "text/plain": [
       "online_order  job_industry_category\n",
       "False         Manufacturing            3495\n",
       "              Financial Services       1851\n",
       "              Health                   1476\n",
       "              Retail                    856\n",
       "              Property                  627\n",
       "              Entertainment             343\n",
       "              IT                        336\n",
       "              Argiculture               296\n",
       "              Telecommunications        196\n",
       "True          Manufacturing            3659\n",
       "              Financial Services       1947\n",
       "              Health                   1572\n",
       "              Retail                    890\n",
       "              Property                  651\n",
       "              IT                        355\n",
       "              Entertainment             351\n",
       "              Argiculture               270\n",
       "              Telecommunications        156\n",
       "Name: job_industry_category, dtype: int64"
      ]
     },
     "execution_count": 16,
     "metadata": {},
     "output_type": "execute_result"
    }
   ],
   "source": [
    "# which industry categoty orders the most from us online?\n",
    "\n",
    "CTA.groupby('online_order')['job_industry_category'].value_counts()"
   ]
  },
  {
   "cell_type": "code",
   "execution_count": 17,
   "metadata": {},
   "outputs": [
    {
     "data": {
      "image/png": "[encoded data removed]",
      "text/plain": [
       "<Figure size 720x360 with 1 Axes>"
      ]
     },
     "metadata": {
      "needs_background": "light"
     },
     "output_type": "display_data"
    }
   ],
   "source": [
    "plt.figure(figsize=(10,5));\n",
    "CTA.groupby('online_order')['job_industry_category'].value_counts().plot.bar();\n",
    "plt.title('most segements that orders online',size=15)\n",
    "plt.xlabel('online order & sector ',size=15);\n",
    "plt.ylabel('orders count',size=15);"
   ]
  },
  {
   "cell_type": "markdown",
   "metadata": {},
   "source": [
    "Observations:\n",
    "\n",
    "1. People order online slightly more than instore purchases which reveals that our customer's purchasing behaviour is used to ecommerce and we can increase our sales by putting more products on our website and that our online marketing strategy is successful\n",
    "2. The total amount of money spent by consumers to buy products online is more that money spent to buy instore which emphasises point number one \n",
    "3. our Top 3 sold products are Giant Bicycles, Norco Bicycles,OHM Cycles wether they are sold online or instore\n",
    "4. The Top 3 states to purchase from us are (NSW),(VIC),(QLD) wether they buy online or instore\n",
    "5. The To 3 job sectors to purchase from us are Manufacturing , Financial Services ,Health wether they buy online or instore"
   ]
  },
  {
   "cell_type": "markdown",
   "metadata": {},
   "source": [
    "# Analyzing Males vs. Females consumer  behaviour"
   ]
  },
  {
   "cell_type": "code",
   "execution_count": 18,
   "metadata": {
    "scrolled": true
   },
   "outputs": [
    {
     "data": {
      "text/plain": [
       "gender\n",
       "Female    10912309.10\n",
       "Male      10472004.71\n",
       "Name: list_price, dtype: float64"
      ]
     },
     "execution_count": 18,
     "metadata": {},
     "output_type": "execute_result"
    }
   ],
   "source": [
    "#  How much sales are made by women and by men\n",
    "\n",
    "CTA.groupby('gender')['list_price'].sum()"
   ]
  },
  {
   "cell_type": "code",
   "execution_count": 19,
   "metadata": {
    "scrolled": false
   },
   "outputs": [
    {
     "data": {
      "image/png": "[encoded data removed]",
      "text/plain": [
       "<Figure size 720x360 with 1 Axes>"
      ]
     },
     "metadata": {
      "needs_background": "light"
     },
     "output_type": "display_data"
    }
   ],
   "source": [
    "plt.figure(figsize=(10,5));\n",
    "CTA.groupby('gender')['list_price'].sum().plot.bar(color=['#e377c2', '#17becf']);\n",
    "plt.title('Gender vs. list price',size=15)\n",
    "plt.xlabel('Gender',size=15);\n",
    "plt.ylabel('list price',size=15);"
   ]
  },
  {
   "cell_type": "code",
   "execution_count": 20,
   "metadata": {},
   "outputs": [
    {
     "data": {
      "text/plain": [
       "gender  online_order\n",
       "Female  True            5026\n",
       "        False           4882\n",
       "Male    True            4825\n",
       "        False           4594\n",
       "Name: online_order, dtype: int64"
      ]
     },
     "execution_count": 20,
     "metadata": {},
     "output_type": "execute_result"
    }
   ],
   "source": [
    "# No. of Females & males ordered online\n",
    "\n",
    "CTA.groupby('gender')['online_order'].value_counts()"
   ]
  },
  {
   "cell_type": "code",
   "execution_count": 21,
   "metadata": {},
   "outputs": [
    {
     "data": {
      "image/png": "[encoded data removed]",
      "text/plain": [
       "<Figure size 720x360 with 1 Axes>"
      ]
     },
     "metadata": {
      "needs_background": "light"
     },
     "output_type": "display_data"
    }
   ],
   "source": [
    "plt.figure(figsize=(10,5));\n",
    "CTA.groupby('gender')['online_order'].value_counts().plot.bar(color=colors,zorder=3);\n",
    "plt.grid(zorder=0)\n",
    "plt.title('Gender vs. count of online orders',size=15)\n",
    "plt.xlabel('Gender',size=15);\n",
    "plt.ylabel('count of online orders',size=15);"
   ]
  },
  {
   "cell_type": "code",
   "execution_count": 22,
   "metadata": {},
   "outputs": [
    {
     "data": {
      "text/plain": [
       "gender  brand         \n",
       "Female  Solex             2144\n",
       "        WeareA2B          1650\n",
       "        Giant Bicycles    1647\n",
       "        OHM Cycles        1530\n",
       "        Trek Bicycles     1514\n",
       "        Norco Bicycles    1423\n",
       "Male    Solex             2027\n",
       "        Giant Bicycles    1589\n",
       "        WeareA2B          1553\n",
       "        OHM Cycles        1446\n",
       "        Norco Bicycles    1404\n",
       "        Trek Bicycles     1400\n",
       "Name: brand, dtype: int64"
      ]
     },
     "execution_count": 22,
     "metadata": {},
     "output_type": "execute_result"
    }
   ],
   "source": [
    "# What kind of brands do each gender tend to buy\n",
    "\n",
    "CTA.groupby('gender')['brand'].value_counts()"
   ]
  },
  {
   "cell_type": "code",
   "execution_count": 23,
   "metadata": {},
   "outputs": [
    {
     "data": {
      "image/png": "[encoded data removed]",
      "text/plain": [
       "<Figure size 720x360 with 1 Axes>"
      ]
     },
     "metadata": {
      "needs_background": "light"
     },
     "output_type": "display_data"
    }
   ],
   "source": [
    "plt.figure(figsize=(10,5));\n",
    "CTA.groupby('gender')['brand'].value_counts().plot.barh(color=(0.2, 0.4, 0.6, 0.6));\n",
    "plt.title('Gender vs. Brand',size=15);\n",
    "plt.xlabel('count of products sold',size=15);\n",
    "plt.ylabel('Gender & Brands',size=15);"
   ]
  },
  {
   "cell_type": "markdown",
   "metadata": {},
   "source": [
    "Observations:\n",
    "    \n",
    "1. Sales made by Women exceeds sales made by Men which means that we have big portion of female customer\n",
    "2. we already established that number of online purchases are more in general than instore purchases, number of online orders made by women are 3568 , number of online orders made by men are 3481\n",
    "3. Top 2 products purchased by Females are Solex,WeareA2B\n",
    "4. Top 2 products purchased by Males are Solex,Giant Bicycles"
   ]
  },
  {
   "cell_type": "markdown",
   "metadata": {},
   "source": [
    "# Brands analysis"
   ]
  },
  {
   "cell_type": "code",
   "execution_count": 24,
   "metadata": {},
   "outputs": [
    {
     "data": {
      "text/plain": [
       "brand\n",
       "Solex             4398318.00\n",
       "WeareA2B          4036690.61\n",
       "Giant Bicycles    3991817.00\n",
       "Trek Bicycles     3454727.93\n",
       "OHM Cycles        2924617.12\n",
       "Norco Bicycles    2578143.15\n",
       "Name: list_price, dtype: float64"
      ]
     },
     "execution_count": 24,
     "metadata": {},
     "output_type": "execute_result"
    }
   ],
   "source": [
    "# Which brand is most sold\n",
    "\n",
    "CTA.groupby('brand')['list_price'].sum().sort_values(ascending=False)"
   ]
  },
  {
   "cell_type": "code",
   "execution_count": 25,
   "metadata": {
    "scrolled": true
   },
   "outputs": [
    {
     "data": {
      "image/png": "[encoded data removed]",
      "text/plain": [
       "<Figure size 720x360 with 1 Axes>"
      ]
     },
     "metadata": {
      "needs_background": "light"
     },
     "output_type": "display_data"
    }
   ],
   "source": [
    "plt.figure(figsize=(10,5));\n",
    "CTA.groupby('brand')['list_price'].sum().plot.bar(color=colors);\n",
    "plt.title('brand vs. count of sold products',size=15);\n",
    "plt.xlabel('count of products sold',size=15);\n",
    "plt.ylabel('Brands',size=15);"
   ]
  },
  {
   "cell_type": "code",
   "execution_count": 26,
   "metadata": {},
   "outputs": [
    {
     "data": {
      "text/plain": [
       "state            brand         \n",
       "NSW              Giant Bicycles    1621\n",
       "                 Norco Bicycles    1476\n",
       "                 OHM Cycles        1559\n",
       "                 Solex             2103\n",
       "                 Trek Bicycles     1472\n",
       "                 WeareA2B          1624\n",
       "New South Wales  Giant Bicycles      76\n",
       "                 Norco Bicycles      64\n",
       "                 OHM Cycles          71\n",
       "                 Solex              112\n",
       "                 Trek Bicycles       68\n",
       "                 WeareA2B            81\n",
       "QLD              Giant Bicycles     702\n",
       "                 Norco Bicycles     617\n",
       "                 OHM Cycles         637\n",
       "                 Solex              888\n",
       "                 Trek Bicycles      604\n",
       "                 WeareA2B           687\n",
       "VIC              Giant Bicycles     741\n",
       "                 Norco Bicycles     598\n",
       "                 OHM Cycles         647\n",
       "                 Solex              969\n",
       "                 Trek Bicycles      697\n",
       "                 WeareA2B           750\n",
       "Victoria         Giant Bicycles      96\n",
       "                 Norco Bicycles      72\n",
       "                 OHM Cycles          62\n",
       "                 Solex               99\n",
       "                 Trek Bicycles       73\n",
       "                 WeareA2B            61\n",
       "Name: transaction_id, dtype: int64"
      ]
     },
     "execution_count": 26,
     "metadata": {},
     "output_type": "execute_result"
    }
   ],
   "source": [
    "# Which state buys which brand the most\n",
    "CTA.groupby('state')['brand'].count()\n",
    "CTA.groupby(['state','brand'])['transaction_id'].count()"
   ]
  },
  {
   "cell_type": "code",
   "execution_count": 27,
   "metadata": {},
   "outputs": [
    {
     "data": {
      "image/png": "[encoded data removed]",
      "text/plain": [
       "<Figure size 720x360 with 1 Axes>"
      ]
     },
     "metadata": {
      "needs_background": "light"
     },
     "output_type": "display_data"
    }
   ],
   "source": [
    "# Which state buys which brand the most\n",
    "\n",
    "plt.figure(figsize=(10,5));\n",
    "CTA.groupby(['state','brand'])['transaction_id'].count().plot.bar(color=colors);"
   ]
  },
  {
   "cell_type": "markdown",
   "metadata": {},
   "source": [
    "Observations:\n",
    "    \n",
    "1. Most sold brand is Solex\n",
    "2. It seems that the most brand sold in all the satetes is Solex brand"
   ]
  },
  {
   "cell_type": "markdown",
   "metadata": {},
   "source": [
    "# customers who own a car vs customers who don't"
   ]
  },
  {
   "cell_type": "code",
   "execution_count": 28,
   "metadata": {},
   "outputs": [
    {
     "data": {
      "image/png": "[encoded data removed]",
      "text/plain": [
       "<Figure size 720x360 with 1 Axes>"
      ]
     },
     "metadata": {
      "needs_background": "light"
     },
     "output_type": "display_data"
    }
   ],
   "source": [
    "# count of customers who own a car vs customers who don't\n",
    "\n",
    "plt.figure(figsize=(10,5));\n",
    "sns.countplot(CTA['owns_car']);"
   ]
  },
  {
   "cell_type": "code",
   "execution_count": 29,
   "metadata": {},
   "outputs": [
    {
     "data": {
      "text/plain": [
       "gender  owns_car\n",
       "Female  Yes         5053\n",
       "        No          4855\n",
       "Male    No          4774\n",
       "        Yes         4645\n",
       "Name: owns_car, dtype: int64"
      ]
     },
     "execution_count": 29,
     "metadata": {},
     "output_type": "execute_result"
    }
   ],
   "source": [
    "# what is the count of owning a car custommerrs in females and males and vice versa\n",
    "\n",
    "CTA.groupby('gender')['owns_car'].value_counts()"
   ]
  },
  {
   "cell_type": "code",
   "execution_count": 30,
   "metadata": {},
   "outputs": [
    {
     "data": {
      "image/png": "[encoded data removed]",
      "text/plain": [
       "<Figure size 720x360 with 1 Axes>"
      ]
     },
     "metadata": {
      "needs_background": "light"
     },
     "output_type": "display_data"
    }
   ],
   "source": [
    "plt.figure(figsize=(10,5));\n",
    "CTA.groupby('gender')['owns_car'].value_counts().plot.bar(color=colors);\n",
    "plt.title('Gender vs. owns a car',size=15);\n",
    "plt.xlabel('Gender who owns and don\\'t own a car',size=15);\n",
    "plt.ylabel('count of customers who own a car',size=15);"
   ]
  },
  {
   "cell_type": "markdown",
   "metadata": {},
   "source": [
    "Observations:\n",
    "\n",
    "1. Customers who own a car are more than customers who don't\n",
    "2. Females who own a car are more than females who does not own a car \n",
    "3. On the other hand Males who doesn't own a car are more than Males who own a car"
   ]
  },
  {
   "cell_type": "markdown",
   "metadata": {},
   "source": [
    "# General observations"
   ]
  },
  {
   "cell_type": "code",
   "execution_count": 31,
   "metadata": {},
   "outputs": [
    {
     "data": {
      "image/png": "[encoded data removed]",
      "text/plain": [
       "<Figure size 936x576 with 1 Axes>"
      ]
     },
     "metadata": {
      "needs_background": "light"
     },
     "output_type": "display_data"
    }
   ],
   "source": [
    "# Which jobcategory bought the most from us ?\n",
    "\n",
    "plt.figure(figsize=(13,8))\n",
    "sns.countplot(CTA['job_industry_category']);"
   ]
  },
  {
   "cell_type": "code",
   "execution_count": 32,
   "metadata": {
    "scrolled": true
   },
   "outputs": [
    {
     "data": {
      "text/plain": [
       "43.0    1273\n",
       "44.0     929\n",
       "47.0     754\n",
       "42.0     730\n",
       "46.0     590\n",
       "45.0     576\n",
       "41.0     560\n",
       "40.0     558\n",
       "35.0     493\n",
       "34.0     475\n",
       "Name: Age, dtype: int64"
      ]
     },
     "execution_count": 32,
     "metadata": {},
     "output_type": "execute_result"
    }
   ],
   "source": [
    "# which Age group bough the most from us?\n",
    "\n",
    "CTA['Age'].value_counts(ascending=False).head(10)"
   ]
  },
  {
   "cell_type": "code",
   "execution_count": 33,
   "metadata": {},
   "outputs": [
    {
     "data": {
      "image/png": "[encoded data removed]",
      "text/plain": [
       "<Figure size 720x360 with 1 Axes>"
      ]
     },
     "metadata": {
      "needs_background": "light"
     },
     "output_type": "display_data"
    }
   ],
   "source": [
    "plt.figure(figsize=(10,5))\n",
    "CTA['Age'].value_counts(ascending=False).head(10).plot.bar(color=colors);"
   ]
  },
  {
   "cell_type": "code",
   "execution_count": 34,
   "metadata": {
    "scrolled": true
   },
   "outputs": [
    {
     "data": {
      "image/png": "[encoded data removed]",
      "text/plain": [
       "<Figure size 720x360 with 1 Axes>"
      ]
     },
     "metadata": {
      "needs_background": "light"
     },
     "output_type": "display_data"
    }
   ],
   "source": [
    "plt.figure(figsize=(10,5));\n",
    "sns.countplot(CTA['state']);"
   ]
  },
  {
   "cell_type": "code",
   "execution_count": 35,
   "metadata": {},
   "outputs": [
    {
     "data": {
      "text/plain": [
       "Transaction_month\n",
       "Oct    1909751.36\n",
       "Aug    1866059.51\n",
       "May    1858262.12\n",
       "Jul    1816802.84\n",
       "Jan    1801750.65\n",
       "Apr    1769650.22\n",
       "Nov    1764685.28\n",
       "Feb    1755611.15\n",
       "Mar    1736753.94\n",
       "Dec    1728121.85\n",
       "Sep    1690439.47\n",
       "Jun    1686425.42\n",
       "Name: list_price, dtype: float64"
      ]
     },
     "execution_count": 35,
     "metadata": {},
     "output_type": "execute_result"
    }
   ],
   "source": [
    "#checking for the total sales amount per month\n",
    "\n",
    "CTA.groupby('Transaction_month')['list_price'].sum().sort_values(ascending=False)"
   ]
  },
  {
   "cell_type": "code",
   "execution_count": 36,
   "metadata": {},
   "outputs": [
    {
     "data": {
      "image/png": "[encoded data removed]",
      "text/plain": [
       "<Figure size 720x360 with 1 Axes>"
      ]
     },
     "metadata": {
      "needs_background": "light"
     },
     "output_type": "display_data"
    }
   ],
   "source": [
    "plt.figure(figsize=(10,5))\n",
    "CTA.groupby('Transaction_month')['list_price'].sum().sort_values(ascending=False).plot.line(markersize=10,marker='*');\n",
    "plt.title('month vs list_price',size=15);\n",
    "plt.xlabel('months',size=15);\n",
    "plt.ylabel('sales amount',size=15);\n",
    "plt.grid()"
   ]
  },
  {
   "cell_type": "code",
   "execution_count": 37,
   "metadata": {},
   "outputs": [
    {
     "data": {
      "text/plain": [
       "day_of_the_week\n",
       "Saturday     1121.335269\n",
       "Wednesday    1117.308980\n",
       "Tuesday      1107.195164\n",
       "Thursday     1106.424483\n",
       "Monday       1098.735835\n",
       "Sunday       1097.363580\n",
       "Friday       1096.573054\n",
       "Name: list_price, dtype: float64"
      ]
     },
     "execution_count": 37,
     "metadata": {},
     "output_type": "execute_result"
    }
   ],
   "source": [
    "# Most selling day in the week\n",
    "\n",
    "CTA.groupby('day_of_the_week')['list_price'].mean().sort_values(ascending=False)"
   ]
  },
  {
   "cell_type": "code",
   "execution_count": 38,
   "metadata": {},
   "outputs": [
    {
     "data": {
      "image/png": "[encoded data removed]",
      "text/plain": [
       "<Figure size 720x360 with 1 Axes>"
      ]
     },
     "metadata": {
      "needs_background": "light"
     },
     "output_type": "display_data"
    }
   ],
   "source": [
    "plt.figure(figsize=(10,5))\n",
    "CTA.groupby('day_of_the_week')['list_price'].sum().sort_values(ascending=False).plot.line(markersize=11,marker='o');\n",
    "plt.grid()"
   ]
  },
  {
   "cell_type": "markdown",
   "metadata": {},
   "source": [
    "Observations:\n",
    "\n",
    "1. The most Age that bought from us is 43 mainly the 40's\n",
    "1. Most of the orders made was approved , so few wasn't approved of \n",
    "2. Manufacturing Job industry category are the most category to purchase from our products and Telecomunications are the lowest\n",
    "3. Alot of customers are from NSW state\n",
    "4. The highest amount of total sales was recorded in october\n",
    "5. We mostly sell on wednesday,monday and saturday more than any other day during the week which means people tend to buy on vacations even huge part of sales are done online"
   ]
  },
  {
   "cell_type": "markdown",
   "metadata": {},
   "source": [
    "# RFM Anlaysis"
   ]
  },
  {
   "cell_type": "markdown",
   "metadata": {},
   "source": [
    "Now let's start doing a RFM analysis which is segmenting customers throught thier Recency(Recent purchases),Frequency(How many purchases have they done) & Monetary (How much revenue have they given the company)"
   ]
  },
  {
   "cell_type": "code",
   "execution_count": 39,
   "metadata": {
    "scrolled": true
   },
   "outputs": [
    {
     "data": {
      "text/html": [
       "<div>\n",
       "<style scoped>\n",
       "    .dataframe tbody tr th:only-of-type {\n",
       "        vertical-align: middle;\n",
       "    }\n",
       "\n",
       "    .dataframe tbody tr th {\n",
       "        vertical-align: top;\n",
       "    }\n",
       "\n",
       "    .dataframe thead th {\n",
       "        text-align: right;\n",
       "    }\n",
       "</style>\n",
       "<table border=\"1\" class=\"dataframe\">\n",
       "  <thead>\n",
       "    <tr style=\"text-align: right;\">\n",
       "      <th></th>\n",
       "      <th>transaction_id</th>\n",
       "      <th>product_id</th>\n",
       "      <th>customer_id</th>\n",
       "      <th>transaction_date</th>\n",
       "      <th>online_order</th>\n",
       "      <th>order_status</th>\n",
       "      <th>brand</th>\n",
       "      <th>product_line</th>\n",
       "      <th>product_class</th>\n",
       "      <th>product_size</th>\n",
       "      <th>...</th>\n",
       "      <th>deceased_indicator</th>\n",
       "      <th>owns_car</th>\n",
       "      <th>tenure</th>\n",
       "      <th>Year of birth</th>\n",
       "      <th>Age</th>\n",
       "      <th>address</th>\n",
       "      <th>postcode</th>\n",
       "      <th>state</th>\n",
       "      <th>country</th>\n",
       "      <th>property_valuation</th>\n",
       "    </tr>\n",
       "  </thead>\n",
       "  <tbody>\n",
       "    <tr>\n",
       "      <th>0</th>\n",
       "      <td>1</td>\n",
       "      <td>2</td>\n",
       "      <td>2950</td>\n",
       "      <td>2017-02-25</td>\n",
       "      <td>False</td>\n",
       "      <td>Approved</td>\n",
       "      <td>Solex</td>\n",
       "      <td>Standard</td>\n",
       "      <td>medium</td>\n",
       "      <td>medium</td>\n",
       "      <td>...</td>\n",
       "      <td>N</td>\n",
       "      <td>Yes</td>\n",
       "      <td>10.0</td>\n",
       "      <td>1955.0</td>\n",
       "      <td>66.0</td>\n",
       "      <td>984 Hoepker Court</td>\n",
       "      <td>3064</td>\n",
       "      <td>VIC</td>\n",
       "      <td>Australia</td>\n",
       "      <td>6</td>\n",
       "    </tr>\n",
       "  </tbody>\n",
       "</table>\n",
       "<p>1 rows × 33 columns</p>\n",
       "</div>"
      ],
      "text/plain": [
       "  transaction_id product_id customer_id transaction_date  online_order order_status  brand product_line product_class product_size  ...  deceased_indicator  owns_car tenure Year of birth   Age            address postcode state    country  property_valuation\n",
       "0              1          2        2950       2017-02-25         False     Approved  Solex     Standard        medium       medium  ...                   N       Yes   10.0        1955.0  66.0  984 Hoepker Court     3064   VIC  Australia                   6\n",
       "\n",
       "[1 rows x 33 columns]"
      ]
     },
     "execution_count": 39,
     "metadata": {},
     "output_type": "execute_result"
    }
   ],
   "source": [
    "CTA.head(1)"
   ]
  },
  {
   "cell_type": "code",
   "execution_count": 40,
   "metadata": {},
   "outputs": [
    {
     "data": {
      "text/html": [
       "<div>\n",
       "<style scoped>\n",
       "    .dataframe tbody tr th:only-of-type {\n",
       "        vertical-align: middle;\n",
       "    }\n",
       "\n",
       "    .dataframe tbody tr th {\n",
       "        vertical-align: top;\n",
       "    }\n",
       "\n",
       "    .dataframe thead th {\n",
       "        text-align: right;\n",
       "    }\n",
       "</style>\n",
       "<table border=\"1\" class=\"dataframe\">\n",
       "  <thead>\n",
       "    <tr style=\"text-align: right;\">\n",
       "      <th></th>\n",
       "      <th>customer_id</th>\n",
       "      <th>recency</th>\n",
       "      <th>frequency</th>\n",
       "      <th>monetary</th>\n",
       "    </tr>\n",
       "  </thead>\n",
       "  <tbody>\n",
       "    <tr>\n",
       "      <th>0</th>\n",
       "      <td>1</td>\n",
       "      <td>8</td>\n",
       "      <td>11</td>\n",
       "      <td>9084.45</td>\n",
       "    </tr>\n",
       "    <tr>\n",
       "      <th>1</th>\n",
       "      <td>100</td>\n",
       "      <td>12</td>\n",
       "      <td>2</td>\n",
       "      <td>2748.20</td>\n",
       "    </tr>\n",
       "    <tr>\n",
       "      <th>2</th>\n",
       "      <td>1000</td>\n",
       "      <td>1</td>\n",
       "      <td>9</td>\n",
       "      <td>10183.70</td>\n",
       "    </tr>\n",
       "    <tr>\n",
       "      <th>3</th>\n",
       "      <td>1001</td>\n",
       "      <td>43</td>\n",
       "      <td>7</td>\n",
       "      <td>6233.51</td>\n",
       "    </tr>\n",
       "    <tr>\n",
       "      <th>4</th>\n",
       "      <td>1002</td>\n",
       "      <td>156</td>\n",
       "      <td>4</td>\n",
       "      <td>5038.32</td>\n",
       "    </tr>\n",
       "  </tbody>\n",
       "</table>\n",
       "</div>"
      ],
      "text/plain": [
       "  customer_id  recency  frequency  monetary\n",
       "0           1        8         11   9084.45\n",
       "1         100       12          2   2748.20\n",
       "2        1000        1          9  10183.70\n",
       "3        1001       43          7   6233.51\n",
       "4        1002      156          4   5038.32"
      ]
     },
     "execution_count": 40,
     "metadata": {},
     "output_type": "execute_result"
    }
   ],
   "source": [
    "# This is a quick code to calculate Recency , frequency , monetary for each customer\n",
    "\n",
    "end_date = max(CTA['transaction_date']) + dt.timedelta(days=1)\n",
    "\n",
    "CTA_rfm = CTA.groupby('customer_id').agg(\n",
    "    recency=('transaction_date', lambda x: (end_date - x.max()).days),\n",
    "    frequency=('transaction_id', 'count'),\n",
    "    monetary=('list_price', 'sum')\n",
    ").reset_index()\n",
    "\n",
    "CTA_rfm.head()"
   ]
  },
  {
   "cell_type": "code",
   "execution_count": 41,
   "metadata": {},
   "outputs": [
    {
     "data": {
      "text/html": [
       "<div>\n",
       "<style scoped>\n",
       "    .dataframe tbody tr th:only-of-type {\n",
       "        vertical-align: middle;\n",
       "    }\n",
       "\n",
       "    .dataframe tbody tr th {\n",
       "        vertical-align: top;\n",
       "    }\n",
       "\n",
       "    .dataframe thead th {\n",
       "        text-align: right;\n",
       "    }\n",
       "</style>\n",
       "<table border=\"1\" class=\"dataframe\">\n",
       "  <thead>\n",
       "    <tr style=\"text-align: right;\">\n",
       "      <th></th>\n",
       "      <th>recency</th>\n",
       "      <th>frequency</th>\n",
       "      <th>monetary</th>\n",
       "    </tr>\n",
       "  </thead>\n",
       "  <tbody>\n",
       "    <tr>\n",
       "      <th>count</th>\n",
       "      <td>3412.000000</td>\n",
       "      <td>3412.00000</td>\n",
       "      <td>3412.000000</td>\n",
       "    </tr>\n",
       "    <tr>\n",
       "      <th>mean</th>\n",
       "      <td>62.635111</td>\n",
       "      <td>5.66442</td>\n",
       "      <td>6267.383883</td>\n",
       "    </tr>\n",
       "    <tr>\n",
       "      <th>std</th>\n",
       "      <td>58.548190</td>\n",
       "      <td>2.31148</td>\n",
       "      <td>2945.699196</td>\n",
       "    </tr>\n",
       "    <tr>\n",
       "      <th>min</th>\n",
       "      <td>1.000000</td>\n",
       "      <td>1.00000</td>\n",
       "      <td>60.340000</td>\n",
       "    </tr>\n",
       "    <tr>\n",
       "      <th>25%</th>\n",
       "      <td>19.000000</td>\n",
       "      <td>4.00000</td>\n",
       "      <td>4149.430000</td>\n",
       "    </tr>\n",
       "    <tr>\n",
       "      <th>50%</th>\n",
       "      <td>45.000000</td>\n",
       "      <td>6.00000</td>\n",
       "      <td>5979.365000</td>\n",
       "    </tr>\n",
       "    <tr>\n",
       "      <th>75%</th>\n",
       "      <td>87.000000</td>\n",
       "      <td>7.00000</td>\n",
       "      <td>8094.372500</td>\n",
       "    </tr>\n",
       "    <tr>\n",
       "      <th>max</th>\n",
       "      <td>354.000000</td>\n",
       "      <td>14.00000</td>\n",
       "      <td>19071.320000</td>\n",
       "    </tr>\n",
       "  </tbody>\n",
       "</table>\n",
       "</div>"
      ],
      "text/plain": [
       "           recency   frequency      monetary\n",
       "count  3412.000000  3412.00000   3412.000000\n",
       "mean     62.635111     5.66442   6267.383883\n",
       "std      58.548190     2.31148   2945.699196\n",
       "min       1.000000     1.00000     60.340000\n",
       "25%      19.000000     4.00000   4149.430000\n",
       "50%      45.000000     6.00000   5979.365000\n",
       "75%      87.000000     7.00000   8094.372500\n",
       "max     354.000000    14.00000  19071.320000"
      ]
     },
     "execution_count": 41,
     "metadata": {},
     "output_type": "execute_result"
    }
   ],
   "source": [
    "#statitics of the RFM\n",
    "\n",
    "CTA_rfm.describe()"
   ]
  },
  {
   "cell_type": "code",
   "execution_count": 42,
   "metadata": {},
   "outputs": [],
   "source": [
    "# splitting customer into segments using quantiles\n",
    "\n",
    "quantiles=CTA_rfm.quantile(q=[0.25,0.5,0.75])"
   ]
  },
  {
   "cell_type": "code",
   "execution_count": 43,
   "metadata": {
    "scrolled": true
   },
   "outputs": [
    {
     "data": {
      "text/plain": [
       "{'recency': {0.25: 19.0, 0.5: 45.0, 0.75: 87.0},\n",
       " 'frequency': {0.25: 4.0, 0.5: 6.0, 0.75: 7.0},\n",
       " 'monetary': {0.25: 4149.43, 0.5: 5979.365, 0.75: 8094.3725}}"
      ]
     },
     "execution_count": 43,
     "metadata": {},
     "output_type": "execute_result"
    }
   ],
   "source": [
    "quantiles.to_dict()"
   ]
  },
  {
   "cell_type": "code",
   "execution_count": 44,
   "metadata": {},
   "outputs": [],
   "source": [
    "# we will segment data into four groups using quantiles \n",
    "\n",
    "## for Recency \n",
    "\n",
    "def RClass(x,p,d):\n",
    "    if x <= d[p][0.25]:\n",
    "        return 1\n",
    "    elif x <= d[p][0.50]:\n",
    "        return 2\n",
    "    elif x <= d[p][0.75]: \n",
    "        return 3\n",
    "    else:\n",
    "        return 4\n",
    "    \n",
    "## for Frequency and Monetary value \n",
    "\n",
    "def FMClass(x,p,d):\n",
    "    if x <= d[p][0.25]:\n",
    "        return 4\n",
    "    elif x <= d[p][0.50]:\n",
    "        return 3\n",
    "    elif x <= d[p][0.75]:\n",
    "        return 2\n",
    "    else:\n",
    "        return 1  "
   ]
  },
  {
   "cell_type": "code",
   "execution_count": 45,
   "metadata": {},
   "outputs": [],
   "source": [
    "# apply the function to each rfm column to create segment for each customer in each r,f,m column\n",
    "\n",
    "CTA_rfm['R'] = CTA_rfm['recency'].apply(RClass, args=('recency',quantiles))\n",
    "CTA_rfm['F'] = CTA_rfm['frequency'].apply(FMClass, args=('frequency',quantiles))\n",
    "CTA_rfm['M'] = CTA_rfm['monetary'].apply(FMClass, args=('monetary',quantiles))"
   ]
  },
  {
   "cell_type": "code",
   "execution_count": 46,
   "metadata": {},
   "outputs": [],
   "source": [
    "#calculating RFM class by concatenating the score of each r,f,m & calculating the RFM score by summing the r,f,m segments \n",
    "\n",
    "CTA_rfm['RFMClass'] = CTA_rfm['R'].map(str) + CTA_rfm['F'].map(str) + CTA_rfm['M'].map(str)\n",
    "CTA_rfm['RFMscore']= CTA_rfm[['R','F','M']].sum(axis=1)"
   ]
  },
  {
   "cell_type": "code",
   "execution_count": 47,
   "metadata": {
    "scrolled": true
   },
   "outputs": [
    {
     "data": {
      "text/html": [
       "<div>\n",
       "<style scoped>\n",
       "    .dataframe tbody tr th:only-of-type {\n",
       "        vertical-align: middle;\n",
       "    }\n",
       "\n",
       "    .dataframe tbody tr th {\n",
       "        vertical-align: top;\n",
       "    }\n",
       "\n",
       "    .dataframe thead th {\n",
       "        text-align: right;\n",
       "    }\n",
       "</style>\n",
       "<table border=\"1\" class=\"dataframe\">\n",
       "  <thead>\n",
       "    <tr style=\"text-align: right;\">\n",
       "      <th></th>\n",
       "      <th>customer_id</th>\n",
       "      <th>recency</th>\n",
       "      <th>frequency</th>\n",
       "      <th>monetary</th>\n",
       "      <th>R</th>\n",
       "      <th>F</th>\n",
       "      <th>M</th>\n",
       "      <th>RFMClass</th>\n",
       "      <th>RFMscore</th>\n",
       "    </tr>\n",
       "  </thead>\n",
       "  <tbody>\n",
       "    <tr>\n",
       "      <th>0</th>\n",
       "      <td>1</td>\n",
       "      <td>8</td>\n",
       "      <td>11</td>\n",
       "      <td>9084.45</td>\n",
       "      <td>1</td>\n",
       "      <td>1</td>\n",
       "      <td>1</td>\n",
       "      <td>111</td>\n",
       "      <td>3</td>\n",
       "    </tr>\n",
       "    <tr>\n",
       "      <th>1</th>\n",
       "      <td>100</td>\n",
       "      <td>12</td>\n",
       "      <td>2</td>\n",
       "      <td>2748.20</td>\n",
       "      <td>1</td>\n",
       "      <td>4</td>\n",
       "      <td>4</td>\n",
       "      <td>144</td>\n",
       "      <td>9</td>\n",
       "    </tr>\n",
       "    <tr>\n",
       "      <th>2</th>\n",
       "      <td>1000</td>\n",
       "      <td>1</td>\n",
       "      <td>9</td>\n",
       "      <td>10183.70</td>\n",
       "      <td>1</td>\n",
       "      <td>1</td>\n",
       "      <td>1</td>\n",
       "      <td>111</td>\n",
       "      <td>3</td>\n",
       "    </tr>\n",
       "    <tr>\n",
       "      <th>3</th>\n",
       "      <td>1001</td>\n",
       "      <td>43</td>\n",
       "      <td>7</td>\n",
       "      <td>6233.51</td>\n",
       "      <td>2</td>\n",
       "      <td>2</td>\n",
       "      <td>2</td>\n",
       "      <td>222</td>\n",
       "      <td>6</td>\n",
       "    </tr>\n",
       "    <tr>\n",
       "      <th>4</th>\n",
       "      <td>1002</td>\n",
       "      <td>156</td>\n",
       "      <td>4</td>\n",
       "      <td>5038.32</td>\n",
       "      <td>4</td>\n",
       "      <td>4</td>\n",
       "      <td>3</td>\n",
       "      <td>443</td>\n",
       "      <td>11</td>\n",
       "    </tr>\n",
       "  </tbody>\n",
       "</table>\n",
       "</div>"
      ],
      "text/plain": [
       "  customer_id  recency  frequency  monetary  R  F  M RFMClass  RFMscore\n",
       "0           1        8         11   9084.45  1  1  1      111         3\n",
       "1         100       12          2   2748.20  1  4  4      144         9\n",
       "2        1000        1          9  10183.70  1  1  1      111         3\n",
       "3        1001       43          7   6233.51  2  2  2      222         6\n",
       "4        1002      156          4   5038.32  4  4  3      443        11"
      ]
     },
     "execution_count": 47,
     "metadata": {},
     "output_type": "execute_result"
    }
   ],
   "source": [
    "CTA_rfm.head()"
   ]
  },
  {
   "cell_type": "markdown",
   "metadata": {},
   "source": [
    "Apply evey RFM_Loyality_level to each customer in the original data frame"
   ]
  },
  {
   "cell_type": "code",
   "execution_count": 48,
   "metadata": {
    "scrolled": true
   },
   "outputs": [
    {
     "data": {
      "text/html": [
       "<div>\n",
       "<style scoped>\n",
       "    .dataframe tbody tr th:only-of-type {\n",
       "        vertical-align: middle;\n",
       "    }\n",
       "\n",
       "    .dataframe tbody tr th {\n",
       "        vertical-align: top;\n",
       "    }\n",
       "\n",
       "    .dataframe thead th {\n",
       "        text-align: right;\n",
       "    }\n",
       "</style>\n",
       "<table border=\"1\" class=\"dataframe\">\n",
       "  <thead>\n",
       "    <tr style=\"text-align: right;\">\n",
       "      <th></th>\n",
       "      <th>customer_id</th>\n",
       "      <th>recency</th>\n",
       "      <th>frequency</th>\n",
       "      <th>monetary</th>\n",
       "      <th>R</th>\n",
       "      <th>F</th>\n",
       "      <th>M</th>\n",
       "      <th>RFMClass</th>\n",
       "      <th>RFMscore</th>\n",
       "      <th>RFM_loyalty_level</th>\n",
       "    </tr>\n",
       "  </thead>\n",
       "  <tbody>\n",
       "    <tr>\n",
       "      <th>0</th>\n",
       "      <td>1</td>\n",
       "      <td>8</td>\n",
       "      <td>11</td>\n",
       "      <td>9084.45</td>\n",
       "      <td>1</td>\n",
       "      <td>1</td>\n",
       "      <td>1</td>\n",
       "      <td>111</td>\n",
       "      <td>3</td>\n",
       "      <td>Platinum</td>\n",
       "    </tr>\n",
       "    <tr>\n",
       "      <th>1</th>\n",
       "      <td>100</td>\n",
       "      <td>12</td>\n",
       "      <td>2</td>\n",
       "      <td>2748.20</td>\n",
       "      <td>1</td>\n",
       "      <td>4</td>\n",
       "      <td>4</td>\n",
       "      <td>144</td>\n",
       "      <td>9</td>\n",
       "      <td>Silver</td>\n",
       "    </tr>\n",
       "    <tr>\n",
       "      <th>2</th>\n",
       "      <td>1000</td>\n",
       "      <td>1</td>\n",
       "      <td>9</td>\n",
       "      <td>10183.70</td>\n",
       "      <td>1</td>\n",
       "      <td>1</td>\n",
       "      <td>1</td>\n",
       "      <td>111</td>\n",
       "      <td>3</td>\n",
       "      <td>Platinum</td>\n",
       "    </tr>\n",
       "    <tr>\n",
       "      <th>3</th>\n",
       "      <td>1001</td>\n",
       "      <td>43</td>\n",
       "      <td>7</td>\n",
       "      <td>6233.51</td>\n",
       "      <td>2</td>\n",
       "      <td>2</td>\n",
       "      <td>2</td>\n",
       "      <td>222</td>\n",
       "      <td>6</td>\n",
       "      <td>Platinum</td>\n",
       "    </tr>\n",
       "    <tr>\n",
       "      <th>4</th>\n",
       "      <td>1002</td>\n",
       "      <td>156</td>\n",
       "      <td>4</td>\n",
       "      <td>5038.32</td>\n",
       "      <td>4</td>\n",
       "      <td>4</td>\n",
       "      <td>3</td>\n",
       "      <td>443</td>\n",
       "      <td>11</td>\n",
       "      <td>Bronze</td>\n",
       "    </tr>\n",
       "  </tbody>\n",
       "</table>\n",
       "</div>"
      ],
      "text/plain": [
       "  customer_id  recency  frequency  monetary  R  F  M RFMClass  RFMscore RFM_loyalty_level\n",
       "0           1        8         11   9084.45  1  1  1      111         3          Platinum\n",
       "1         100       12          2   2748.20  1  4  4      144         9            Silver\n",
       "2        1000        1          9  10183.70  1  1  1      111         3          Platinum\n",
       "3        1001       43          7   6233.51  2  2  2      222         6          Platinum\n",
       "4        1002      156          4   5038.32  4  4  3      443        11            Bronze"
      ]
     },
     "execution_count": 48,
     "metadata": {},
     "output_type": "execute_result"
    }
   ],
   "source": [
    "# Assigning Loyality level to each customer using qcut method which segments data as per number of quantiles decided\n",
    "\n",
    "Loyality_level=['Platinum','Gold','Silver','Bronze']\n",
    "score_cuts=pd.qcut(CTA_rfm['RFMscore'],q=4,labels=Loyality_level)\n",
    "CTA_rfm['RFM_loyalty_level']=score_cuts.values\n",
    "CTA_rfm.head()"
   ]
  },
  {
   "cell_type": "markdown",
   "metadata": {},
   "source": [
    "Joinning CTA_rfm to customer demographics dataset "
   ]
  },
  {
   "cell_type": "code",
   "execution_count": 49,
   "metadata": {},
   "outputs": [],
   "source": [
    "# joinning dataset\n",
    "\n",
    "CTA_rfm_allinfo=CTA.merge(CTA_rfm,on='customer_id',how='inner')"
   ]
  },
  {
   "cell_type": "code",
   "execution_count": 50,
   "metadata": {
    "scrolled": true
   },
   "outputs": [
    {
     "data": {
      "text/html": [
       "<div>\n",
       "<style scoped>\n",
       "    .dataframe tbody tr th:only-of-type {\n",
       "        vertical-align: middle;\n",
       "    }\n",
       "\n",
       "    .dataframe tbody tr th {\n",
       "        vertical-align: top;\n",
       "    }\n",
       "\n",
       "    .dataframe thead th {\n",
       "        text-align: right;\n",
       "    }\n",
       "</style>\n",
       "<table border=\"1\" class=\"dataframe\">\n",
       "  <thead>\n",
       "    <tr style=\"text-align: right;\">\n",
       "      <th></th>\n",
       "      <th>transaction_id</th>\n",
       "      <th>product_id</th>\n",
       "      <th>customer_id</th>\n",
       "      <th>transaction_date</th>\n",
       "      <th>online_order</th>\n",
       "      <th>order_status</th>\n",
       "      <th>brand</th>\n",
       "      <th>product_line</th>\n",
       "      <th>product_class</th>\n",
       "      <th>product_size</th>\n",
       "      <th>...</th>\n",
       "      <th>property_valuation</th>\n",
       "      <th>recency</th>\n",
       "      <th>frequency</th>\n",
       "      <th>monetary</th>\n",
       "      <th>R</th>\n",
       "      <th>F</th>\n",
       "      <th>M</th>\n",
       "      <th>RFMClass</th>\n",
       "      <th>RFMscore</th>\n",
       "      <th>RFM_loyalty_level</th>\n",
       "    </tr>\n",
       "  </thead>\n",
       "  <tbody>\n",
       "    <tr>\n",
       "      <th>0</th>\n",
       "      <td>1</td>\n",
       "      <td>2</td>\n",
       "      <td>2950</td>\n",
       "      <td>2017-02-25</td>\n",
       "      <td>False</td>\n",
       "      <td>Approved</td>\n",
       "      <td>Solex</td>\n",
       "      <td>Standard</td>\n",
       "      <td>medium</td>\n",
       "      <td>medium</td>\n",
       "      <td>...</td>\n",
       "      <td>6</td>\n",
       "      <td>76</td>\n",
       "      <td>3</td>\n",
       "      <td>1953.15</td>\n",
       "      <td>3</td>\n",
       "      <td>4</td>\n",
       "      <td>4</td>\n",
       "      <td>344</td>\n",
       "      <td>11</td>\n",
       "      <td>Bronze</td>\n",
       "    </tr>\n",
       "    <tr>\n",
       "      <th>1</th>\n",
       "      <td>11065</td>\n",
       "      <td>1</td>\n",
       "      <td>2950</td>\n",
       "      <td>2017-10-16</td>\n",
       "      <td>False</td>\n",
       "      <td>Approved</td>\n",
       "      <td>Giant Bicycles</td>\n",
       "      <td>Standard</td>\n",
       "      <td>medium</td>\n",
       "      <td>medium</td>\n",
       "      <td>...</td>\n",
       "      <td>6</td>\n",
       "      <td>76</td>\n",
       "      <td>3</td>\n",
       "      <td>1953.15</td>\n",
       "      <td>3</td>\n",
       "      <td>4</td>\n",
       "      <td>4</td>\n",
       "      <td>344</td>\n",
       "      <td>11</td>\n",
       "      <td>Bronze</td>\n",
       "    </tr>\n",
       "    <tr>\n",
       "      <th>2</th>\n",
       "      <td>18923</td>\n",
       "      <td>62</td>\n",
       "      <td>2950</td>\n",
       "      <td>2017-04-26</td>\n",
       "      <td>False</td>\n",
       "      <td>Approved</td>\n",
       "      <td>Solex</td>\n",
       "      <td>Standard</td>\n",
       "      <td>medium</td>\n",
       "      <td>medium</td>\n",
       "      <td>...</td>\n",
       "      <td>6</td>\n",
       "      <td>76</td>\n",
       "      <td>3</td>\n",
       "      <td>1953.15</td>\n",
       "      <td>3</td>\n",
       "      <td>4</td>\n",
       "      <td>4</td>\n",
       "      <td>344</td>\n",
       "      <td>11</td>\n",
       "      <td>Bronze</td>\n",
       "    </tr>\n",
       "    <tr>\n",
       "      <th>3</th>\n",
       "      <td>2</td>\n",
       "      <td>3</td>\n",
       "      <td>3120</td>\n",
       "      <td>2017-05-21</td>\n",
       "      <td>True</td>\n",
       "      <td>Approved</td>\n",
       "      <td>Trek Bicycles</td>\n",
       "      <td>Standard</td>\n",
       "      <td>medium</td>\n",
       "      <td>large</td>\n",
       "      <td>...</td>\n",
       "      <td>5</td>\n",
       "      <td>21</td>\n",
       "      <td>7</td>\n",
       "      <td>7351.70</td>\n",
       "      <td>2</td>\n",
       "      <td>2</td>\n",
       "      <td>2</td>\n",
       "      <td>222</td>\n",
       "      <td>6</td>\n",
       "      <td>Platinum</td>\n",
       "    </tr>\n",
       "    <tr>\n",
       "      <th>4</th>\n",
       "      <td>6862</td>\n",
       "      <td>4</td>\n",
       "      <td>3120</td>\n",
       "      <td>2017-10-05</td>\n",
       "      <td>False</td>\n",
       "      <td>Approved</td>\n",
       "      <td>Giant Bicycles</td>\n",
       "      <td>Standard</td>\n",
       "      <td>high</td>\n",
       "      <td>medium</td>\n",
       "      <td>...</td>\n",
       "      <td>5</td>\n",
       "      <td>21</td>\n",
       "      <td>7</td>\n",
       "      <td>7351.70</td>\n",
       "      <td>2</td>\n",
       "      <td>2</td>\n",
       "      <td>2</td>\n",
       "      <td>222</td>\n",
       "      <td>6</td>\n",
       "      <td>Platinum</td>\n",
       "    </tr>\n",
       "  </tbody>\n",
       "</table>\n",
       "<p>5 rows × 42 columns</p>\n",
       "</div>"
      ],
      "text/plain": [
       "  transaction_id product_id customer_id transaction_date  online_order order_status           brand product_line product_class product_size  ...  property_valuation  recency frequency monetary  R  F  M RFMClass RFMscore  RFM_loyalty_level\n",
       "0              1          2        2950       2017-02-25         False     Approved           Solex     Standard        medium       medium  ...                   6       76         3  1953.15  3  4  4      344       11             Bronze\n",
       "1          11065          1        2950       2017-10-16         False     Approved  Giant Bicycles     Standard        medium       medium  ...                   6       76         3  1953.15  3  4  4      344       11             Bronze\n",
       "2          18923         62        2950       2017-04-26         False     Approved           Solex     Standard        medium       medium  ...                   6       76         3  1953.15  3  4  4      344       11             Bronze\n",
       "3              2          3        3120       2017-05-21          True     Approved   Trek Bicycles     Standard        medium        large  ...                   5       21         7  7351.70  2  2  2      222        6           Platinum\n",
       "4           6862          4        3120       2017-10-05         False     Approved  Giant Bicycles     Standard          high       medium  ...                   5       21         7  7351.70  2  2  2      222        6           Platinum\n",
       "\n",
       "[5 rows x 42 columns]"
      ]
     },
     "execution_count": 50,
     "metadata": {},
     "output_type": "execute_result"
    }
   ],
   "source": [
    "CTA_rfm_allinfo.head()"
   ]
  },
  {
   "cell_type": "markdown",
   "metadata": {},
   "source": [
    "Finally we have segmented customer into 4 different segments and we should prioritize our marketing strategy as per each segment"
   ]
  },
  {
   "cell_type": "code",
   "execution_count": 51,
   "metadata": {},
   "outputs": [],
   "source": [
    "# Exporting our CTA dataframe to apply  Data feauturing and Machine learning modeling on it in the other notebook\n",
    "\n",
    "CTA_rfm_allinfo.to_csv('CTA_rfm_allinfo.csv')"
   ]
  }
 ],
 "metadata": {
  "kernelspec": {
   "display_name": "Python 3",
   "language": "python",
   "name": "python3"
  },
  "language_info": {
   "codemirror_mode": {
    "name": "ipython",
    "version": 3
   },
   "file_extension": ".py",
   "mimetype": "text/x-python",
   "name": "python",
   "nbconvert_exporter": "python",
   "pygments_lexer": "ipython3",
   "version": "3.8.3"
  }
 },
 "nbformat": 4,
 "nbformat_minor": 4
}
