{
 "cells": [
  {
   "cell_type": "markdown",
   "metadata": {},
   "source": [
    "## Sprocket Central Pty Ltd Company Customers Recommendation Project Phase #3 Data modeling"
   ]
  },
  {
   "cell_type": "markdown",
   "metadata": {},
   "source": [
    "<img src=\"sprocket_central.png\" width=\"600\" />"
   ]
  },
  {
   "cell_type": "markdown",
   "metadata": {},
   "source": [
    "### About the Dataset"
   ]
  },
  {
   "cell_type": "markdown",
   "metadata": {},
   "source": [
    "**Sprocket Central Pty Ltd**, a medium size bikes & cycling accessories organisation which has a large dataset relating to its customers, but their team is unsure how to effectively analyse it to help optimise its marketing strategy. \n",
    "\n",
    "The client provided us with 3 datasets:\n",
    "\n",
    "- Customer Demographic\n",
    "\n",
    "- Customer Addresses\n",
    "\n",
    "- Transactions data in the past 3 months\n",
    "\n",
    "### Objective of the report\n",
    "\n",
    "In Phase #1 i have conducted a data cleaning process on each dataset and joined them together.\n",
    "\n",
    "In Phase #2 we have conducted a Data Exploratory analysis , RFM Analysis and segmented the customers into four segments: (Platinum,Gold,Silver,Bronze)\n",
    "\n",
    "In this Phase #3 The client has provided us with 1 extra datasets **New Customers Demographic** with 1000 records of new customers that hasn't purchased any prodcuts from us and wants recommendations on which customers to target with the marketing campaigns from the new dataset\n",
    "\n",
    "In order to solve this task i will use a machine learning classification model and train it on my old customers dataset with the RFM segmentations we created and try to predict which from the new customers most likely to be which segmentation"
   ]
  },
  {
   "cell_type": "code",
   "execution_count": 1,
   "metadata": {},
   "outputs": [],
   "source": [
    "# import all packages and set plots to be embedded inline\n",
    "\n",
    "import pandas as pd\n",
    "import numpy as np\n",
    "import datetime as dt\n",
    "import calendar\n",
    "\n",
    "# suppress warnings \n",
    "import warnings\n",
    "warnings.simplefilter(\"ignore\")"
   ]
  },
  {
   "cell_type": "code",
   "execution_count": 2,
   "metadata": {},
   "outputs": [],
   "source": [
    "#Importing the rfm segmented dataset \n",
    "CTA_rfm=pd.read_csv('CTA_rfm_allinfo.csv')"
   ]
  },
  {
   "cell_type": "code",
   "execution_count": 3,
   "metadata": {
    "scrolled": true
   },
   "outputs": [
    {
     "data": {
      "text/html": [
       "<div>\n",
       "<style scoped>\n",
       "    .dataframe tbody tr th:only-of-type {\n",
       "        vertical-align: middle;\n",
       "    }\n",
       "\n",
       "    .dataframe tbody tr th {\n",
       "        vertical-align: top;\n",
       "    }\n",
       "\n",
       "    .dataframe thead th {\n",
       "        text-align: right;\n",
       "    }\n",
       "</style>\n",
       "<table border=\"1\" class=\"dataframe\">\n",
       "  <thead>\n",
       "    <tr style=\"text-align: right;\">\n",
       "      <th></th>\n",
       "      <th>Unnamed: 0</th>\n",
       "      <th>transaction_id</th>\n",
       "      <th>product_id</th>\n",
       "      <th>customer_id</th>\n",
       "      <th>transaction_date</th>\n",
       "      <th>online_order</th>\n",
       "      <th>order_status</th>\n",
       "      <th>brand</th>\n",
       "      <th>product_line</th>\n",
       "      <th>product_class</th>\n",
       "      <th>...</th>\n",
       "      <th>property_valuation</th>\n",
       "      <th>recency</th>\n",
       "      <th>frequency</th>\n",
       "      <th>monetary</th>\n",
       "      <th>R</th>\n",
       "      <th>F</th>\n",
       "      <th>M</th>\n",
       "      <th>RFMClass</th>\n",
       "      <th>RFMscore</th>\n",
       "      <th>RFM_loyalty_level</th>\n",
       "    </tr>\n",
       "  </thead>\n",
       "  <tbody>\n",
       "    <tr>\n",
       "      <th>0</th>\n",
       "      <td>0</td>\n",
       "      <td>1</td>\n",
       "      <td>2</td>\n",
       "      <td>2950</td>\n",
       "      <td>2017-02-25</td>\n",
       "      <td>False</td>\n",
       "      <td>Approved</td>\n",
       "      <td>Solex</td>\n",
       "      <td>Standard</td>\n",
       "      <td>medium</td>\n",
       "      <td>...</td>\n",
       "      <td>6</td>\n",
       "      <td>76</td>\n",
       "      <td>3</td>\n",
       "      <td>1953.15</td>\n",
       "      <td>3</td>\n",
       "      <td>4</td>\n",
       "      <td>4</td>\n",
       "      <td>344</td>\n",
       "      <td>11</td>\n",
       "      <td>Bronze</td>\n",
       "    </tr>\n",
       "  </tbody>\n",
       "</table>\n",
       "<p>1 rows × 43 columns</p>\n",
       "</div>"
      ],
      "text/plain": [
       "   Unnamed: 0  transaction_id  product_id  customer_id transaction_date  \\\n",
       "0           0               1           2         2950       2017-02-25   \n",
       "\n",
       "   online_order order_status  brand product_line product_class  ...  \\\n",
       "0         False     Approved  Solex     Standard        medium  ...   \n",
       "\n",
       "  property_valuation  recency  frequency  monetary  R  F  M RFMClass RFMscore  \\\n",
       "0                  6       76          3   1953.15  3  4  4      344       11   \n",
       "\n",
       "  RFM_loyalty_level  \n",
       "0            Bronze  \n",
       "\n",
       "[1 rows x 43 columns]"
      ]
     },
     "execution_count": 3,
     "metadata": {},
     "output_type": "execute_result"
    }
   ],
   "source": [
    "# checking the data first row\n",
    "CTA_rfm.head(1)"
   ]
  },
  {
   "cell_type": "markdown",
   "metadata": {},
   "source": [
    "I will create a new dataframe with columns that i will use to train my classification model on to predict RFM_loyalty_level for a fresh dataset with similar features with 1000 new customer"
   ]
  },
  {
   "cell_type": "code",
   "execution_count": 4,
   "metadata": {},
   "outputs": [],
   "source": [
    "old_customers=CTA_rfm[['gender','past_3_years_bike_related_purchases','job_industry_category','wealth_segment','owns_car','tenure','Age','property_valuation','RFM_loyalty_level']]"
   ]
  },
  {
   "cell_type": "markdown",
   "metadata": {},
   "source": [
    "### Old customers dataset Features Engineering"
   ]
  },
  {
   "cell_type": "code",
   "execution_count": 5,
   "metadata": {
    "scrolled": false
   },
   "outputs": [
    {
     "data": {
      "text/plain": [
       "(19125, 9)"
      ]
     },
     "execution_count": 5,
     "metadata": {},
     "output_type": "execute_result"
    }
   ],
   "source": [
    "old_customers.shape"
   ]
  },
  {
   "cell_type": "markdown",
   "metadata": {},
   "source": [
    "Since the (gender,job_industry,own_car) columns are nominal columns then i will use one hot coding to transform them into binary values to use them in my ML model"
   ]
  },
  {
   "cell_type": "code",
   "execution_count": 6,
   "metadata": {},
   "outputs": [
    {
     "data": {
      "text/html": [
       "<div>\n",
       "<style scoped>\n",
       "    .dataframe tbody tr th:only-of-type {\n",
       "        vertical-align: middle;\n",
       "    }\n",
       "\n",
       "    .dataframe tbody tr th {\n",
       "        vertical-align: top;\n",
       "    }\n",
       "\n",
       "    .dataframe thead th {\n",
       "        text-align: right;\n",
       "    }\n",
       "</style>\n",
       "<table border=\"1\" class=\"dataframe\">\n",
       "  <thead>\n",
       "    <tr style=\"text-align: right;\">\n",
       "      <th></th>\n",
       "      <th>gender_Male</th>\n",
       "    </tr>\n",
       "  </thead>\n",
       "  <tbody>\n",
       "    <tr>\n",
       "      <th>0</th>\n",
       "      <td>1</td>\n",
       "    </tr>\n",
       "    <tr>\n",
       "      <th>1</th>\n",
       "      <td>1</td>\n",
       "    </tr>\n",
       "    <tr>\n",
       "      <th>2</th>\n",
       "      <td>1</td>\n",
       "    </tr>\n",
       "    <tr>\n",
       "      <th>3</th>\n",
       "      <td>0</td>\n",
       "    </tr>\n",
       "    <tr>\n",
       "      <th>4</th>\n",
       "      <td>0</td>\n",
       "    </tr>\n",
       "  </tbody>\n",
       "</table>\n",
       "</div>"
      ],
      "text/plain": [
       "   gender_Male\n",
       "0            1\n",
       "1            1\n",
       "2            1\n",
       "3            0\n",
       "4            0"
      ]
     },
     "execution_count": 6,
     "metadata": {},
     "output_type": "execute_result"
    }
   ],
   "source": [
    "# changing gender data columns using one hot coding into binary\n",
    "\n",
    "gender=old_customers[['gender']]\n",
    "gender=pd.get_dummies(gender,drop_first=True)\n",
    "gender.head()"
   ]
  },
  {
   "cell_type": "code",
   "execution_count": 7,
   "metadata": {
    "scrolled": false
   },
   "outputs": [
    {
     "data": {
      "text/html": [
       "<div>\n",
       "<style scoped>\n",
       "    .dataframe tbody tr th:only-of-type {\n",
       "        vertical-align: middle;\n",
       "    }\n",
       "\n",
       "    .dataframe tbody tr th {\n",
       "        vertical-align: top;\n",
       "    }\n",
       "\n",
       "    .dataframe thead th {\n",
       "        text-align: right;\n",
       "    }\n",
       "</style>\n",
       "<table border=\"1\" class=\"dataframe\">\n",
       "  <thead>\n",
       "    <tr style=\"text-align: right;\">\n",
       "      <th></th>\n",
       "      <th>job_industry_category_Entertainment</th>\n",
       "      <th>job_industry_category_Financial Services</th>\n",
       "      <th>job_industry_category_Health</th>\n",
       "      <th>job_industry_category_IT</th>\n",
       "      <th>job_industry_category_Manufacturing</th>\n",
       "      <th>job_industry_category_Property</th>\n",
       "      <th>job_industry_category_Retail</th>\n",
       "      <th>job_industry_category_Telecommunications</th>\n",
       "    </tr>\n",
       "  </thead>\n",
       "  <tbody>\n",
       "    <tr>\n",
       "      <th>0</th>\n",
       "      <td>0</td>\n",
       "      <td>1</td>\n",
       "      <td>0</td>\n",
       "      <td>0</td>\n",
       "      <td>0</td>\n",
       "      <td>0</td>\n",
       "      <td>0</td>\n",
       "      <td>0</td>\n",
       "    </tr>\n",
       "    <tr>\n",
       "      <th>1</th>\n",
       "      <td>0</td>\n",
       "      <td>1</td>\n",
       "      <td>0</td>\n",
       "      <td>0</td>\n",
       "      <td>0</td>\n",
       "      <td>0</td>\n",
       "      <td>0</td>\n",
       "      <td>0</td>\n",
       "    </tr>\n",
       "    <tr>\n",
       "      <th>2</th>\n",
       "      <td>0</td>\n",
       "      <td>1</td>\n",
       "      <td>0</td>\n",
       "      <td>0</td>\n",
       "      <td>0</td>\n",
       "      <td>0</td>\n",
       "      <td>0</td>\n",
       "      <td>0</td>\n",
       "    </tr>\n",
       "    <tr>\n",
       "      <th>3</th>\n",
       "      <td>0</td>\n",
       "      <td>0</td>\n",
       "      <td>1</td>\n",
       "      <td>0</td>\n",
       "      <td>0</td>\n",
       "      <td>0</td>\n",
       "      <td>0</td>\n",
       "      <td>0</td>\n",
       "    </tr>\n",
       "    <tr>\n",
       "      <th>4</th>\n",
       "      <td>0</td>\n",
       "      <td>0</td>\n",
       "      <td>1</td>\n",
       "      <td>0</td>\n",
       "      <td>0</td>\n",
       "      <td>0</td>\n",
       "      <td>0</td>\n",
       "      <td>0</td>\n",
       "    </tr>\n",
       "  </tbody>\n",
       "</table>\n",
       "</div>"
      ],
      "text/plain": [
       "   job_industry_category_Entertainment  \\\n",
       "0                                    0   \n",
       "1                                    0   \n",
       "2                                    0   \n",
       "3                                    0   \n",
       "4                                    0   \n",
       "\n",
       "   job_industry_category_Financial Services  job_industry_category_Health  \\\n",
       "0                                         1                             0   \n",
       "1                                         1                             0   \n",
       "2                                         1                             0   \n",
       "3                                         0                             1   \n",
       "4                                         0                             1   \n",
       "\n",
       "   job_industry_category_IT  job_industry_category_Manufacturing  \\\n",
       "0                         0                                    0   \n",
       "1                         0                                    0   \n",
       "2                         0                                    0   \n",
       "3                         0                                    0   \n",
       "4                         0                                    0   \n",
       "\n",
       "   job_industry_category_Property  job_industry_category_Retail  \\\n",
       "0                               0                             0   \n",
       "1                               0                             0   \n",
       "2                               0                             0   \n",
       "3                               0                             0   \n",
       "4                               0                             0   \n",
       "\n",
       "   job_industry_category_Telecommunications  \n",
       "0                                         0  \n",
       "1                                         0  \n",
       "2                                         0  \n",
       "3                                         0  \n",
       "4                                         0  "
      ]
     },
     "execution_count": 7,
     "metadata": {},
     "output_type": "execute_result"
    }
   ],
   "source": [
    "# changing job_industry_category data columns using one hot coding into binary\n",
    "\n",
    "job_industry_category=old_customers[['job_industry_category']]\n",
    "job_industry_category=pd.get_dummies(job_industry_category,drop_first=True)\n",
    "job_industry_category.head()"
   ]
  },
  {
   "cell_type": "code",
   "execution_count": 8,
   "metadata": {
    "scrolled": true
   },
   "outputs": [
    {
     "data": {
      "text/html": [
       "<div>\n",
       "<style scoped>\n",
       "    .dataframe tbody tr th:only-of-type {\n",
       "        vertical-align: middle;\n",
       "    }\n",
       "\n",
       "    .dataframe tbody tr th {\n",
       "        vertical-align: top;\n",
       "    }\n",
       "\n",
       "    .dataframe thead th {\n",
       "        text-align: right;\n",
       "    }\n",
       "</style>\n",
       "<table border=\"1\" class=\"dataframe\">\n",
       "  <thead>\n",
       "    <tr style=\"text-align: right;\">\n",
       "      <th></th>\n",
       "      <th>owns_car_Yes</th>\n",
       "    </tr>\n",
       "  </thead>\n",
       "  <tbody>\n",
       "    <tr>\n",
       "      <th>0</th>\n",
       "      <td>1</td>\n",
       "    </tr>\n",
       "    <tr>\n",
       "      <th>1</th>\n",
       "      <td>1</td>\n",
       "    </tr>\n",
       "    <tr>\n",
       "      <th>2</th>\n",
       "      <td>1</td>\n",
       "    </tr>\n",
       "    <tr>\n",
       "      <th>3</th>\n",
       "      <td>1</td>\n",
       "    </tr>\n",
       "    <tr>\n",
       "      <th>4</th>\n",
       "      <td>1</td>\n",
       "    </tr>\n",
       "  </tbody>\n",
       "</table>\n",
       "</div>"
      ],
      "text/plain": [
       "   owns_car_Yes\n",
       "0             1\n",
       "1             1\n",
       "2             1\n",
       "3             1\n",
       "4             1"
      ]
     },
     "execution_count": 8,
     "metadata": {},
     "output_type": "execute_result"
    }
   ],
   "source": [
    "# changing owns_car data columns using one hot coding into binary\n",
    "\n",
    "owns_car=old_customers[['owns_car']]\n",
    "owns_car=pd.get_dummies(owns_car,drop_first=True)\n",
    "owns_car.head()"
   ]
  },
  {
   "cell_type": "markdown",
   "metadata": {},
   "source": [
    "Converting wealth_segment column into binary column using label encoder since it is an ordinal category column"
   ]
  },
  {
   "cell_type": "code",
   "execution_count": 9,
   "metadata": {},
   "outputs": [],
   "source": [
    "# changing wealth_segment data columns using Label  Encoder into binary\n",
    "\n",
    "from sklearn.preprocessing import LabelEncoder\n",
    "old_customers['wealth_segment']=LabelEncoder().fit_transform(old_customers['wealth_segment'])"
   ]
  },
  {
   "cell_type": "markdown",
   "metadata": {},
   "source": [
    "I will create a new dataframe to use in my ML model consists of binary transformed columns and numerical columns"
   ]
  },
  {
   "cell_type": "code",
   "execution_count": 10,
   "metadata": {},
   "outputs": [],
   "source": [
    "old_customers1=old_customers[['past_3_years_bike_related_purchases','tenure','Age','property_valuation','wealth_segment']]"
   ]
  },
  {
   "cell_type": "code",
   "execution_count": 11,
   "metadata": {},
   "outputs": [],
   "source": [
    "#Concatenating transformed categorical columns with the old_customers dataframe\n",
    "\n",
    "old_customers1=pd.concat([gender,job_industry_category,owns_car,old_customers1],axis=1)"
   ]
  },
  {
   "cell_type": "code",
   "execution_count": 12,
   "metadata": {},
   "outputs": [
    {
     "data": {
      "text/plain": [
       "(19125, 15)"
      ]
     },
     "execution_count": 12,
     "metadata": {},
     "output_type": "execute_result"
    }
   ],
   "source": [
    "old_customers1.shape"
   ]
  },
  {
   "cell_type": "code",
   "execution_count": 13,
   "metadata": {
    "scrolled": false
   },
   "outputs": [
    {
     "data": {
      "text/html": [
       "<div>\n",
       "<style scoped>\n",
       "    .dataframe tbody tr th:only-of-type {\n",
       "        vertical-align: middle;\n",
       "    }\n",
       "\n",
       "    .dataframe tbody tr th {\n",
       "        vertical-align: top;\n",
       "    }\n",
       "\n",
       "    .dataframe thead th {\n",
       "        text-align: right;\n",
       "    }\n",
       "</style>\n",
       "<table border=\"1\" class=\"dataframe\">\n",
       "  <thead>\n",
       "    <tr style=\"text-align: right;\">\n",
       "      <th></th>\n",
       "      <th>gender_Male</th>\n",
       "      <th>job_industry_category_Entertainment</th>\n",
       "      <th>job_industry_category_Financial Services</th>\n",
       "      <th>job_industry_category_Health</th>\n",
       "      <th>job_industry_category_IT</th>\n",
       "      <th>job_industry_category_Manufacturing</th>\n",
       "      <th>job_industry_category_Property</th>\n",
       "      <th>job_industry_category_Retail</th>\n",
       "      <th>job_industry_category_Telecommunications</th>\n",
       "      <th>owns_car_Yes</th>\n",
       "      <th>past_3_years_bike_related_purchases</th>\n",
       "      <th>tenure</th>\n",
       "      <th>Age</th>\n",
       "      <th>property_valuation</th>\n",
       "      <th>wealth_segment</th>\n",
       "    </tr>\n",
       "  </thead>\n",
       "  <tbody>\n",
       "    <tr>\n",
       "      <th>0</th>\n",
       "      <td>1</td>\n",
       "      <td>0</td>\n",
       "      <td>1</td>\n",
       "      <td>0</td>\n",
       "      <td>0</td>\n",
       "      <td>0</td>\n",
       "      <td>0</td>\n",
       "      <td>0</td>\n",
       "      <td>0</td>\n",
       "      <td>1</td>\n",
       "      <td>19</td>\n",
       "      <td>10.0</td>\n",
       "      <td>66</td>\n",
       "      <td>6</td>\n",
       "      <td>2</td>\n",
       "    </tr>\n",
       "  </tbody>\n",
       "</table>\n",
       "</div>"
      ],
      "text/plain": [
       "   gender_Male  job_industry_category_Entertainment  \\\n",
       "0            1                                    0   \n",
       "\n",
       "   job_industry_category_Financial Services  job_industry_category_Health  \\\n",
       "0                                         1                             0   \n",
       "\n",
       "   job_industry_category_IT  job_industry_category_Manufacturing  \\\n",
       "0                         0                                    0   \n",
       "\n",
       "   job_industry_category_Property  job_industry_category_Retail  \\\n",
       "0                               0                             0   \n",
       "\n",
       "   job_industry_category_Telecommunications  owns_car_Yes  \\\n",
       "0                                         0             1   \n",
       "\n",
       "   past_3_years_bike_related_purchases  tenure  Age  property_valuation  \\\n",
       "0                                   19    10.0   66                   6   \n",
       "\n",
       "   wealth_segment  \n",
       "0               2  "
      ]
     },
     "execution_count": 13,
     "metadata": {},
     "output_type": "execute_result"
    }
   ],
   "source": [
    "# final result\n",
    "\n",
    "old_customers1.head(1)"
   ]
  },
  {
   "cell_type": "markdown",
   "metadata": {},
   "source": [
    "Now i will import the new customers dataset to adjust it for the machine learning model"
   ]
  },
  {
   "cell_type": "markdown",
   "metadata": {},
   "source": [
    "### New customers dataset"
   ]
  },
  {
   "cell_type": "code",
   "execution_count": 14,
   "metadata": {},
   "outputs": [],
   "source": [
    "# Retrieving new customers dataset\n",
    "new_customers=pd.read_excel('New customer list.xlsx')"
   ]
  },
  {
   "cell_type": "code",
   "execution_count": 15,
   "metadata": {
    "scrolled": false
   },
   "outputs": [
    {
     "data": {
      "text/html": [
       "<div>\n",
       "<style scoped>\n",
       "    .dataframe tbody tr th:only-of-type {\n",
       "        vertical-align: middle;\n",
       "    }\n",
       "\n",
       "    .dataframe tbody tr th {\n",
       "        vertical-align: top;\n",
       "    }\n",
       "\n",
       "    .dataframe thead th {\n",
       "        text-align: right;\n",
       "    }\n",
       "</style>\n",
       "<table border=\"1\" class=\"dataframe\">\n",
       "  <thead>\n",
       "    <tr style=\"text-align: right;\">\n",
       "      <th></th>\n",
       "      <th>Note: The data and information in this document is reflective of a hypothetical situation and client. This document is to be used for KPMG Virtual Internship purposes only.</th>\n",
       "      <th>Unnamed: 1</th>\n",
       "      <th>Unnamed: 2</th>\n",
       "      <th>Unnamed: 3</th>\n",
       "      <th>Unnamed: 4</th>\n",
       "      <th>Unnamed: 5</th>\n",
       "      <th>Unnamed: 6</th>\n",
       "      <th>Unnamed: 7</th>\n",
       "      <th>Unnamed: 8</th>\n",
       "      <th>Unnamed: 9</th>\n",
       "      <th>...</th>\n",
       "      <th>Unnamed: 13</th>\n",
       "      <th>Unnamed: 14</th>\n",
       "      <th>Unnamed: 15</th>\n",
       "      <th>Unnamed: 16</th>\n",
       "      <th>Unnamed: 17</th>\n",
       "      <th>Unnamed: 18</th>\n",
       "      <th>Unnamed: 19</th>\n",
       "      <th>Unnamed: 20</th>\n",
       "      <th>Unnamed: 21</th>\n",
       "      <th>Unnamed: 22</th>\n",
       "    </tr>\n",
       "  </thead>\n",
       "  <tbody>\n",
       "    <tr>\n",
       "      <th>0</th>\n",
       "      <td>first_name</td>\n",
       "      <td>last_name</td>\n",
       "      <td>gender</td>\n",
       "      <td>past_3_years_bike_related_purchases</td>\n",
       "      <td>DOB</td>\n",
       "      <td>job_title</td>\n",
       "      <td>job_industry_category</td>\n",
       "      <td>wealth_segment</td>\n",
       "      <td>deceased_indicator</td>\n",
       "      <td>owns_car</td>\n",
       "      <td>...</td>\n",
       "      <td>state</td>\n",
       "      <td>country</td>\n",
       "      <td>property_valuation</td>\n",
       "      <td>NaN</td>\n",
       "      <td>NaN</td>\n",
       "      <td>NaN</td>\n",
       "      <td>NaN</td>\n",
       "      <td>NaN</td>\n",
       "      <td>Rank</td>\n",
       "      <td>Value</td>\n",
       "    </tr>\n",
       "  </tbody>\n",
       "</table>\n",
       "<p>1 rows × 23 columns</p>\n",
       "</div>"
      ],
      "text/plain": [
       "  Note: The data and information in this document is reflective of a hypothetical situation and client. This document is to be used for KPMG Virtual Internship purposes only.   \\\n",
       "0                                         first_name                                                                                                                              \n",
       "\n",
       "  Unnamed: 1 Unnamed: 2                           Unnamed: 3 Unnamed: 4  \\\n",
       "0  last_name     gender  past_3_years_bike_related_purchases        DOB   \n",
       "\n",
       "  Unnamed: 5             Unnamed: 6      Unnamed: 7          Unnamed: 8  \\\n",
       "0  job_title  job_industry_category  wealth_segment  deceased_indicator   \n",
       "\n",
       "  Unnamed: 9  ... Unnamed: 13 Unnamed: 14         Unnamed: 15 Unnamed: 16  \\\n",
       "0   owns_car  ...       state     country  property_valuation         NaN   \n",
       "\n",
       "  Unnamed: 17 Unnamed: 18  Unnamed: 19  Unnamed: 20  Unnamed: 21  Unnamed: 22  \n",
       "0         NaN         NaN          NaN          NaN         Rank        Value  \n",
       "\n",
       "[1 rows x 23 columns]"
      ]
     },
     "execution_count": 15,
     "metadata": {},
     "output_type": "execute_result"
    }
   ],
   "source": [
    "#checking data first rows\n",
    "new_customers.head(1)"
   ]
  },
  {
   "cell_type": "code",
   "execution_count": 16,
   "metadata": {},
   "outputs": [],
   "source": [
    "# Making first row as header\n",
    "new_customers.rename(columns=new_customers.iloc[0], inplace = True)\n",
    "new_customers.drop([0], inplace = True)"
   ]
  },
  {
   "cell_type": "code",
   "execution_count": 17,
   "metadata": {
    "scrolled": false
   },
   "outputs": [
    {
     "data": {
      "text/html": [
       "<div>\n",
       "<style scoped>\n",
       "    .dataframe tbody tr th:only-of-type {\n",
       "        vertical-align: middle;\n",
       "    }\n",
       "\n",
       "    .dataframe tbody tr th {\n",
       "        vertical-align: top;\n",
       "    }\n",
       "\n",
       "    .dataframe thead th {\n",
       "        text-align: right;\n",
       "    }\n",
       "</style>\n",
       "<table border=\"1\" class=\"dataframe\">\n",
       "  <thead>\n",
       "    <tr style=\"text-align: right;\">\n",
       "      <th></th>\n",
       "      <th>first_name</th>\n",
       "      <th>last_name</th>\n",
       "      <th>gender</th>\n",
       "      <th>past_3_years_bike_related_purchases</th>\n",
       "      <th>DOB</th>\n",
       "      <th>job_title</th>\n",
       "      <th>job_industry_category</th>\n",
       "      <th>wealth_segment</th>\n",
       "      <th>deceased_indicator</th>\n",
       "      <th>owns_car</th>\n",
       "      <th>...</th>\n",
       "      <th>state</th>\n",
       "      <th>country</th>\n",
       "      <th>property_valuation</th>\n",
       "      <th>NaN</th>\n",
       "      <th>NaN</th>\n",
       "      <th>NaN</th>\n",
       "      <th>NaN</th>\n",
       "      <th>NaN</th>\n",
       "      <th>Rank</th>\n",
       "      <th>Value</th>\n",
       "    </tr>\n",
       "  </thead>\n",
       "  <tbody>\n",
       "    <tr>\n",
       "      <th>1</th>\n",
       "      <td>Chickie</td>\n",
       "      <td>Brister</td>\n",
       "      <td>Male</td>\n",
       "      <td>86</td>\n",
       "      <td>1957-07-12</td>\n",
       "      <td>General Manager</td>\n",
       "      <td>Manufacturing</td>\n",
       "      <td>Mass Customer</td>\n",
       "      <td>N</td>\n",
       "      <td>Yes</td>\n",
       "      <td>...</td>\n",
       "      <td>QLD</td>\n",
       "      <td>Australia</td>\n",
       "      <td>6</td>\n",
       "      <td>0.46</td>\n",
       "      <td>0.575</td>\n",
       "      <td>0.71875</td>\n",
       "      <td>0.610938</td>\n",
       "      <td>1.0</td>\n",
       "      <td>1</td>\n",
       "      <td>1.71875</td>\n",
       "    </tr>\n",
       "  </tbody>\n",
       "</table>\n",
       "<p>1 rows × 23 columns</p>\n",
       "</div>"
      ],
      "text/plain": [
       "  first_name last_name gender past_3_years_bike_related_purchases         DOB  \\\n",
       "1    Chickie   Brister   Male                                  86  1957-07-12   \n",
       "\n",
       "         job_title job_industry_category wealth_segment deceased_indicator  \\\n",
       "1  General Manager         Manufacturing  Mass Customer                  N   \n",
       "\n",
       "  owns_car  ... state    country property_valuation   NaN    NaN      NaN  \\\n",
       "1      Yes  ...   QLD  Australia                  6  0.46  0.575  0.71875   \n",
       "\n",
       "        NaN  NaN  Rank    Value  \n",
       "1  0.610938  1.0     1  1.71875  \n",
       "\n",
       "[1 rows x 23 columns]"
      ]
     },
     "execution_count": 17,
     "metadata": {},
     "output_type": "execute_result"
    }
   ],
   "source": [
    "#checking results\n",
    "new_customers.head(1)"
   ]
  },
  {
   "cell_type": "code",
   "execution_count": 18,
   "metadata": {},
   "outputs": [],
   "source": [
    "#Dropping (nan) header columns from dataset as it doesnt exist in the riginal dataset\n",
    "new_customers.columns = new_customers.columns.fillna('to_drop')\n",
    "new_customers.drop('to_drop', axis = 1, inplace = True)"
   ]
  },
  {
   "cell_type": "code",
   "execution_count": 19,
   "metadata": {
    "scrolled": true
   },
   "outputs": [
    {
     "name": "stdout",
     "output_type": "stream",
     "text": [
      "<class 'pandas.core.frame.DataFrame'>\n",
      "Int64Index: 1000 entries, 1 to 1000\n",
      "Data columns (total 18 columns):\n",
      " #   Column                               Non-Null Count  Dtype \n",
      "---  ------                               --------------  ----- \n",
      " 0   first_name                           1000 non-null   object\n",
      " 1   last_name                            971 non-null    object\n",
      " 2   gender                               1000 non-null   object\n",
      " 3   past_3_years_bike_related_purchases  1000 non-null   object\n",
      " 4   DOB                                  983 non-null    object\n",
      " 5   job_title                            894 non-null    object\n",
      " 6   job_industry_category                835 non-null    object\n",
      " 7   wealth_segment                       1000 non-null   object\n",
      " 8   deceased_indicator                   1000 non-null   object\n",
      " 9   owns_car                             1000 non-null   object\n",
      " 10  tenure                               1000 non-null   object\n",
      " 11  address                              1000 non-null   object\n",
      " 12  postcode                             1000 non-null   object\n",
      " 13  state                                1000 non-null   object\n",
      " 14  country                              1000 non-null   object\n",
      " 15  property_valuation                   1000 non-null   object\n",
      " 16  Rank                                 1000 non-null   object\n",
      " 17  Value                                1000 non-null   object\n",
      "dtypes: object(18)\n",
      "memory usage: 148.4+ KB\n"
     ]
    }
   ],
   "source": [
    "# Checking dataset info\n",
    "new_customers.info()"
   ]
  },
  {
   "cell_type": "code",
   "execution_count": 20,
   "metadata": {
    "scrolled": true
   },
   "outputs": [
    {
     "data": {
      "text/plain": [
       "0"
      ]
     },
     "execution_count": 20,
     "metadata": {},
     "output_type": "execute_result"
    }
   ],
   "source": [
    "# checking for duplicates in the dataset\n",
    "new_customers.duplicated().sum()"
   ]
  },
  {
   "cell_type": "markdown",
   "metadata": {},
   "source": [
    "No duplicates in the data"
   ]
  },
  {
   "cell_type": "markdown",
   "metadata": {},
   "source": [
    "Checking for consistences of values in categorical column"
   ]
  },
  {
   "cell_type": "code",
   "execution_count": 21,
   "metadata": {},
   "outputs": [
    {
     "data": {
      "text/plain": [
       "['first_name',\n",
       " 'last_name',\n",
       " 'gender',\n",
       " 'past_3_years_bike_related_purchases',\n",
       " 'DOB',\n",
       " 'job_title',\n",
       " 'job_industry_category',\n",
       " 'wealth_segment',\n",
       " 'deceased_indicator',\n",
       " 'owns_car',\n",
       " 'tenure',\n",
       " 'address',\n",
       " 'postcode',\n",
       " 'state',\n",
       " 'country',\n",
       " 'property_valuation',\n",
       " 'Rank',\n",
       " 'Value']"
      ]
     },
     "execution_count": 21,
     "metadata": {},
     "output_type": "execute_result"
    }
   ],
   "source": [
    "# Collecting the categorical columns into  list\n",
    "\n",
    "cat_col=[]\n",
    "for x in new_customers.dtypes.index:\n",
    "    if new_customers.dtypes[x]=='object':\n",
    "        cat_col.append(x)\n",
    "cat_col"
   ]
  },
  {
   "cell_type": "code",
   "execution_count": 22,
   "metadata": {
    "scrolled": false
   },
   "outputs": [
    {
     "name": "stdout",
     "output_type": "stream",
     "text": [
      "first_name\n",
      "Dorian      3\n",
      "Mandie      3\n",
      "Rozamond    3\n",
      "Harman      2\n",
      "Daisy       2\n",
      "           ..\n",
      "Sharron     1\n",
      "Wrennie     1\n",
      "Dickie      1\n",
      "Kiley       1\n",
      "Raff        1\n",
      "Name: first_name, Length: 940, dtype: int64\n",
      "\n",
      "*******\n",
      "\n",
      "last_name\n",
      "Borsi        2\n",
      "Hallt        2\n",
      "Shoesmith    2\n",
      "Sturch       2\n",
      "Eade         2\n",
      "            ..\n",
      "Trounson     1\n",
      "Shilstone    1\n",
      "Odlin        1\n",
      "Bisseker     1\n",
      "Moriarty     1\n",
      "Name: last_name, Length: 961, dtype: int64\n",
      "\n",
      "*******\n",
      "\n",
      "gender\n",
      "Female    513\n",
      "Male      470\n",
      "U          17\n",
      "Name: gender, dtype: int64\n",
      "\n",
      "*******\n",
      "\n",
      "past_3_years_bike_related_purchases\n",
      "60    20\n",
      "59    18\n",
      "42    17\n",
      "70    17\n",
      "11    16\n",
      "      ..\n",
      "19     5\n",
      "9      5\n",
      "92     5\n",
      "85     4\n",
      "20     3\n",
      "Name: past_3_years_bike_related_purchases, Length: 100, dtype: int64\n",
      "\n",
      "*******\n",
      "\n",
      "DOB\n",
      "1959-09-18    2\n",
      "1951-11-28    2\n",
      "1992-10-13    2\n",
      "1965-07-03    2\n",
      "1951-04-29    2\n",
      "             ..\n",
      "1979-03-24    1\n",
      "1979-10-22    1\n",
      "1987-11-16    1\n",
      "1990-05-29    1\n",
      "1960-12-19    1\n",
      "Name: DOB, Length: 961, dtype: int64\n",
      "\n",
      "*******\n",
      "\n",
      "job_title\n",
      "Associate Professor           15\n",
      "Software Consultant           14\n",
      "Environmental Tech            14\n",
      "Chief Design Engineer         13\n",
      "Assistant Manager             12\n",
      "                              ..\n",
      "Account Representative II      1\n",
      "Web Developer IV               1\n",
      "Software Test Engineer III     1\n",
      "Safety Technician IV           1\n",
      "Engineer II                    1\n",
      "Name: job_title, Length: 184, dtype: int64\n",
      "\n",
      "*******\n",
      "\n",
      "job_industry_category\n",
      "Financial Services    203\n",
      "Manufacturing         199\n",
      "Health                152\n",
      "Retail                 78\n",
      "Property               64\n",
      "IT                     51\n",
      "Entertainment          37\n",
      "Argiculture            26\n",
      "Telecommunications     25\n",
      "Name: job_industry_category, dtype: int64\n",
      "\n",
      "*******\n",
      "\n",
      "wealth_segment\n",
      "Mass Customer        508\n",
      "High Net Worth       251\n",
      "Affluent Customer    241\n",
      "Name: wealth_segment, dtype: int64\n",
      "\n",
      "*******\n",
      "\n",
      "deceased_indicator\n",
      "N    1000\n",
      "Name: deceased_indicator, dtype: int64\n",
      "\n",
      "*******\n",
      "\n",
      "owns_car\n",
      "No     507\n",
      "Yes    493\n",
      "Name: owns_car, dtype: int64\n",
      "\n",
      "*******\n",
      "\n",
      "tenure\n",
      "9     79\n",
      "13    74\n",
      "11    68\n",
      "10    63\n",
      "12    61\n",
      "7     60\n",
      "5     60\n",
      "17    59\n",
      "15    58\n",
      "8     55\n",
      "14    54\n",
      "16    49\n",
      "6     45\n",
      "18    36\n",
      "4     36\n",
      "19    34\n",
      "3     26\n",
      "21    24\n",
      "20    22\n",
      "2     15\n",
      "22    12\n",
      "1      8\n",
      "0      2\n",
      "Name: tenure, dtype: int64\n",
      "\n",
      "*******\n",
      "\n",
      "address\n",
      "83497 Memorial Plaza       1\n",
      "990 Hoffman Avenue         1\n",
      "41153 Pond Park            1\n",
      "095 Glacier Hill Circle    1\n",
      "95960 Warner Parkway       1\n",
      "                          ..\n",
      "5280 Waxwing Point         1\n",
      "1408 Hovde Circle          1\n",
      "79 Armistice Parkway       1\n",
      "351 Sunfield Lane          1\n",
      "4 Warner Park              1\n",
      "Name: address, Length: 1000, dtype: int64\n",
      "\n",
      "*******\n",
      "\n",
      "postcode\n",
      "2145    9\n",
      "2232    9\n",
      "2168    7\n",
      "4207    7\n",
      "3029    7\n",
      "       ..\n",
      "3173    1\n",
      "2529    1\n",
      "3437    1\n",
      "4879    1\n",
      "4005    1\n",
      "Name: postcode, Length: 522, dtype: int64\n",
      "\n",
      "*******\n",
      "\n",
      "state\n",
      "NSW    506\n",
      "VIC    266\n",
      "QLD    228\n",
      "Name: state, dtype: int64\n",
      "\n",
      "*******\n",
      "\n",
      "country\n",
      "Australia    1000\n",
      "Name: country, dtype: int64\n",
      "\n",
      "*******\n",
      "\n",
      "property_valuation\n",
      "9     173\n",
      "8     161\n",
      "7     136\n",
      "10    116\n",
      "6      69\n",
      "11     61\n",
      "5      57\n",
      "4      53\n",
      "3      51\n",
      "12     46\n",
      "2      42\n",
      "1      30\n",
      "7       2\n",
      "11      1\n",
      "8       1\n",
      "6       1\n",
      "Name: property_valuation, dtype: int64\n",
      "\n",
      "*******\n",
      "\n",
      "Rank\n",
      "760    13\n",
      "259    12\n",
      "133     9\n",
      "455     9\n",
      "904     9\n",
      "       ..\n",
      "201     1\n",
      "355     1\n",
      "947     1\n",
      "190     1\n",
      "590     1\n",
      "Name: Rank, Length: 324, dtype: int64\n",
      "\n",
      "*******\n",
      "\n",
      "Value\n",
      "0.637500    13\n",
      "1.062500    12\n",
      "1.237500     9\n",
      "0.892500     9\n",
      "0.945625     9\n",
      "            ..\n",
      "0.818125     1\n",
      "0.512500     1\n",
      "0.501500     1\n",
      "1.562500     1\n",
      "0.940000     1\n",
      "Name: Value, Length: 324, dtype: int64\n",
      "\n",
      "*******\n",
      "\n"
     ]
    }
   ],
   "source": [
    "#checking for duplicated values in the categorical columns nd the accuracy of the values\n",
    "\n",
    "for col in cat_col:\n",
    "    print(col)\n",
    "    print(new_customers[col].value_counts())\n",
    "    print()\n",
    "    print('*******')\n",
    "    print()"
   ]
  },
  {
   "cell_type": "markdown",
   "metadata": {},
   "source": [
    "The general information about the dataframe points out to several problems:\n",
    "    \n",
    "- changing Date of birth column into date colunm to extract Age from it\n",
    "- we have some null values in some column"
   ]
  },
  {
   "cell_type": "markdown",
   "metadata": {},
   "source": [
    "### New customers dataset Features Engineering"
   ]
  },
  {
   "cell_type": "code",
   "execution_count": 23,
   "metadata": {
    "scrolled": false
   },
   "outputs": [
    {
     "data": {
      "text/html": [
       "<div>\n",
       "<style scoped>\n",
       "    .dataframe tbody tr th:only-of-type {\n",
       "        vertical-align: middle;\n",
       "    }\n",
       "\n",
       "    .dataframe tbody tr th {\n",
       "        vertical-align: top;\n",
       "    }\n",
       "\n",
       "    .dataframe thead th {\n",
       "        text-align: right;\n",
       "    }\n",
       "</style>\n",
       "<table border=\"1\" class=\"dataframe\">\n",
       "  <thead>\n",
       "    <tr style=\"text-align: right;\">\n",
       "      <th></th>\n",
       "      <th>Missing (count)</th>\n",
       "      <th>Missing (%)</th>\n",
       "    </tr>\n",
       "  </thead>\n",
       "  <tbody>\n",
       "    <tr>\n",
       "      <th>first_name</th>\n",
       "      <td>0</td>\n",
       "      <td>0.0</td>\n",
       "    </tr>\n",
       "    <tr>\n",
       "      <th>last_name</th>\n",
       "      <td>29</td>\n",
       "      <td>2.9</td>\n",
       "    </tr>\n",
       "    <tr>\n",
       "      <th>gender</th>\n",
       "      <td>0</td>\n",
       "      <td>0.0</td>\n",
       "    </tr>\n",
       "    <tr>\n",
       "      <th>past_3_years_bike_related_purchases</th>\n",
       "      <td>0</td>\n",
       "      <td>0.0</td>\n",
       "    </tr>\n",
       "    <tr>\n",
       "      <th>DOB</th>\n",
       "      <td>17</td>\n",
       "      <td>1.7</td>\n",
       "    </tr>\n",
       "    <tr>\n",
       "      <th>job_title</th>\n",
       "      <td>106</td>\n",
       "      <td>10.6</td>\n",
       "    </tr>\n",
       "    <tr>\n",
       "      <th>job_industry_category</th>\n",
       "      <td>165</td>\n",
       "      <td>16.5</td>\n",
       "    </tr>\n",
       "    <tr>\n",
       "      <th>wealth_segment</th>\n",
       "      <td>0</td>\n",
       "      <td>0.0</td>\n",
       "    </tr>\n",
       "    <tr>\n",
       "      <th>deceased_indicator</th>\n",
       "      <td>0</td>\n",
       "      <td>0.0</td>\n",
       "    </tr>\n",
       "    <tr>\n",
       "      <th>owns_car</th>\n",
       "      <td>0</td>\n",
       "      <td>0.0</td>\n",
       "    </tr>\n",
       "    <tr>\n",
       "      <th>tenure</th>\n",
       "      <td>0</td>\n",
       "      <td>0.0</td>\n",
       "    </tr>\n",
       "    <tr>\n",
       "      <th>address</th>\n",
       "      <td>0</td>\n",
       "      <td>0.0</td>\n",
       "    </tr>\n",
       "    <tr>\n",
       "      <th>postcode</th>\n",
       "      <td>0</td>\n",
       "      <td>0.0</td>\n",
       "    </tr>\n",
       "    <tr>\n",
       "      <th>state</th>\n",
       "      <td>0</td>\n",
       "      <td>0.0</td>\n",
       "    </tr>\n",
       "    <tr>\n",
       "      <th>country</th>\n",
       "      <td>0</td>\n",
       "      <td>0.0</td>\n",
       "    </tr>\n",
       "    <tr>\n",
       "      <th>property_valuation</th>\n",
       "      <td>0</td>\n",
       "      <td>0.0</td>\n",
       "    </tr>\n",
       "    <tr>\n",
       "      <th>Rank</th>\n",
       "      <td>0</td>\n",
       "      <td>0.0</td>\n",
       "    </tr>\n",
       "    <tr>\n",
       "      <th>Value</th>\n",
       "      <td>0</td>\n",
       "      <td>0.0</td>\n",
       "    </tr>\n",
       "  </tbody>\n",
       "</table>\n",
       "</div>"
      ],
      "text/plain": [
       "                                     Missing (count)  Missing (%)\n",
       "first_name                                         0          0.0\n",
       "last_name                                         29          2.9\n",
       "gender                                             0          0.0\n",
       "past_3_years_bike_related_purchases                0          0.0\n",
       "DOB                                               17          1.7\n",
       "job_title                                        106         10.6\n",
       "job_industry_category                            165         16.5\n",
       "wealth_segment                                     0          0.0\n",
       "deceased_indicator                                 0          0.0\n",
       "owns_car                                           0          0.0\n",
       "tenure                                             0          0.0\n",
       "address                                            0          0.0\n",
       "postcode                                           0          0.0\n",
       "state                                              0          0.0\n",
       "country                                            0          0.0\n",
       "property_valuation                                 0          0.0\n",
       "Rank                                               0          0.0\n",
       "Value                                              0          0.0"
      ]
     },
     "execution_count": 23,
     "metadata": {},
     "output_type": "execute_result"
    }
   ],
   "source": [
    "# How many missing points in each variable\n",
    "count_missing_new_customers = new_customers.isnull().sum()\n",
    "percent_missing_new_customers = round(new_customers.isnull().sum()/len(new_customers) * 100, 1)\n",
    "missing_new_customers = pd.concat([count_missing_new_customers, percent_missing_new_customers], axis = 1)\n",
    "missing_new_customers.columns = [\"Missing (count)\", \"Missing (%)\"]\n",
    "missing_new_customers"
   ]
  },
  {
   "cell_type": "code",
   "execution_count": 24,
   "metadata": {},
   "outputs": [],
   "source": [
    "# we will fill in the job_title,job_industry_category column with the mode value which is the most repeated value in the column\n",
    "C=new_customers['job_title'].mode()[0]\n",
    "new_customers['job_title'].fillna(C,inplace=True)\n",
    "J=new_customers['job_industry_category'].mode()[0]\n",
    "new_customers['job_industry_category'].fillna(J,inplace=True)"
   ]
  },
  {
   "cell_type": "code",
   "execution_count": 25,
   "metadata": {},
   "outputs": [
    {
     "ename": "KeyError",
     "evalue": "'Age'",
     "output_type": "error",
     "traceback": [
      "\u001b[1;31m---------------------------------------------------------------------------\u001b[0m",
      "\u001b[1;31mKeyError\u001b[0m                                  Traceback (most recent call last)",
      "\u001b[1;32mD:\\anaconda\\lib\\site-packages\\pandas\\core\\indexes\\base.py\u001b[0m in \u001b[0;36mget_loc\u001b[1;34m(self, key, method, tolerance)\u001b[0m\n\u001b[0;32m   2645\u001b[0m             \u001b[1;32mtry\u001b[0m\u001b[1;33m:\u001b[0m\u001b[1;33m\u001b[0m\u001b[1;33m\u001b[0m\u001b[0m\n\u001b[1;32m-> 2646\u001b[1;33m                 \u001b[1;32mreturn\u001b[0m \u001b[0mself\u001b[0m\u001b[1;33m.\u001b[0m\u001b[0m_engine\u001b[0m\u001b[1;33m.\u001b[0m\u001b[0mget_loc\u001b[0m\u001b[1;33m(\u001b[0m\u001b[0mkey\u001b[0m\u001b[1;33m)\u001b[0m\u001b[1;33m\u001b[0m\u001b[1;33m\u001b[0m\u001b[0m\n\u001b[0m\u001b[0;32m   2647\u001b[0m             \u001b[1;32mexcept\u001b[0m \u001b[0mKeyError\u001b[0m\u001b[1;33m:\u001b[0m\u001b[1;33m\u001b[0m\u001b[1;33m\u001b[0m\u001b[0m\n",
      "\u001b[1;32mpandas\\_libs\\index.pyx\u001b[0m in \u001b[0;36mpandas._libs.index.IndexEngine.get_loc\u001b[1;34m()\u001b[0m\n",
      "\u001b[1;32mpandas\\_libs\\index.pyx\u001b[0m in \u001b[0;36mpandas._libs.index.IndexEngine.get_loc\u001b[1;34m()\u001b[0m\n",
      "\u001b[1;32mpandas\\_libs\\hashtable_class_helper.pxi\u001b[0m in \u001b[0;36mpandas._libs.hashtable.PyObjectHashTable.get_item\u001b[1;34m()\u001b[0m\n",
      "\u001b[1;32mpandas\\_libs\\hashtable_class_helper.pxi\u001b[0m in \u001b[0;36mpandas._libs.hashtable.PyObjectHashTable.get_item\u001b[1;34m()\u001b[0m\n",
      "\u001b[1;31mKeyError\u001b[0m: 'Age'",
      "\nDuring handling of the above exception, another exception occurred:\n",
      "\u001b[1;31mKeyError\u001b[0m                                  Traceback (most recent call last)",
      "\u001b[1;32m<ipython-input-25-cb93804dfe4c>\u001b[0m in \u001b[0;36m<module>\u001b[1;34m\u001b[0m\n\u001b[0;32m      1\u001b[0m \u001b[1;31m# removing null values from dataset\u001b[0m\u001b[1;33m\u001b[0m\u001b[1;33m\u001b[0m\u001b[1;33m\u001b[0m\u001b[0m\n\u001b[1;32m----> 2\u001b[1;33m \u001b[0mnew_customers\u001b[0m\u001b[1;33m[\u001b[0m\u001b[1;34m'Age'\u001b[0m\u001b[1;33m]\u001b[0m\u001b[1;33m.\u001b[0m\u001b[0mdropna\u001b[0m\u001b[1;33m(\u001b[0m\u001b[0minplace\u001b[0m\u001b[1;33m=\u001b[0m\u001b[1;32mTrue\u001b[0m\u001b[1;33m,\u001b[0m\u001b[0maxis\u001b[0m\u001b[1;33m=\u001b[0m\u001b[1;36m0\u001b[0m\u001b[1;33m)\u001b[0m\u001b[1;33m\u001b[0m\u001b[1;33m\u001b[0m\u001b[0m\n\u001b[0m",
      "\u001b[1;32mD:\\anaconda\\lib\\site-packages\\pandas\\core\\frame.py\u001b[0m in \u001b[0;36m__getitem__\u001b[1;34m(self, key)\u001b[0m\n\u001b[0;32m   2798\u001b[0m             \u001b[1;32mif\u001b[0m \u001b[0mself\u001b[0m\u001b[1;33m.\u001b[0m\u001b[0mcolumns\u001b[0m\u001b[1;33m.\u001b[0m\u001b[0mnlevels\u001b[0m \u001b[1;33m>\u001b[0m \u001b[1;36m1\u001b[0m\u001b[1;33m:\u001b[0m\u001b[1;33m\u001b[0m\u001b[1;33m\u001b[0m\u001b[0m\n\u001b[0;32m   2799\u001b[0m                 \u001b[1;32mreturn\u001b[0m \u001b[0mself\u001b[0m\u001b[1;33m.\u001b[0m\u001b[0m_getitem_multilevel\u001b[0m\u001b[1;33m(\u001b[0m\u001b[0mkey\u001b[0m\u001b[1;33m)\u001b[0m\u001b[1;33m\u001b[0m\u001b[1;33m\u001b[0m\u001b[0m\n\u001b[1;32m-> 2800\u001b[1;33m             \u001b[0mindexer\u001b[0m \u001b[1;33m=\u001b[0m \u001b[0mself\u001b[0m\u001b[1;33m.\u001b[0m\u001b[0mcolumns\u001b[0m\u001b[1;33m.\u001b[0m\u001b[0mget_loc\u001b[0m\u001b[1;33m(\u001b[0m\u001b[0mkey\u001b[0m\u001b[1;33m)\u001b[0m\u001b[1;33m\u001b[0m\u001b[1;33m\u001b[0m\u001b[0m\n\u001b[0m\u001b[0;32m   2801\u001b[0m             \u001b[1;32mif\u001b[0m \u001b[0mis_integer\u001b[0m\u001b[1;33m(\u001b[0m\u001b[0mindexer\u001b[0m\u001b[1;33m)\u001b[0m\u001b[1;33m:\u001b[0m\u001b[1;33m\u001b[0m\u001b[1;33m\u001b[0m\u001b[0m\n\u001b[0;32m   2802\u001b[0m                 \u001b[0mindexer\u001b[0m \u001b[1;33m=\u001b[0m \u001b[1;33m[\u001b[0m\u001b[0mindexer\u001b[0m\u001b[1;33m]\u001b[0m\u001b[1;33m\u001b[0m\u001b[1;33m\u001b[0m\u001b[0m\n",
      "\u001b[1;32mD:\\anaconda\\lib\\site-packages\\pandas\\core\\indexes\\base.py\u001b[0m in \u001b[0;36mget_loc\u001b[1;34m(self, key, method, tolerance)\u001b[0m\n\u001b[0;32m   2646\u001b[0m                 \u001b[1;32mreturn\u001b[0m \u001b[0mself\u001b[0m\u001b[1;33m.\u001b[0m\u001b[0m_engine\u001b[0m\u001b[1;33m.\u001b[0m\u001b[0mget_loc\u001b[0m\u001b[1;33m(\u001b[0m\u001b[0mkey\u001b[0m\u001b[1;33m)\u001b[0m\u001b[1;33m\u001b[0m\u001b[1;33m\u001b[0m\u001b[0m\n\u001b[0;32m   2647\u001b[0m             \u001b[1;32mexcept\u001b[0m \u001b[0mKeyError\u001b[0m\u001b[1;33m:\u001b[0m\u001b[1;33m\u001b[0m\u001b[1;33m\u001b[0m\u001b[0m\n\u001b[1;32m-> 2648\u001b[1;33m                 \u001b[1;32mreturn\u001b[0m \u001b[0mself\u001b[0m\u001b[1;33m.\u001b[0m\u001b[0m_engine\u001b[0m\u001b[1;33m.\u001b[0m\u001b[0mget_loc\u001b[0m\u001b[1;33m(\u001b[0m\u001b[0mself\u001b[0m\u001b[1;33m.\u001b[0m\u001b[0m_maybe_cast_indexer\u001b[0m\u001b[1;33m(\u001b[0m\u001b[0mkey\u001b[0m\u001b[1;33m)\u001b[0m\u001b[1;33m)\u001b[0m\u001b[1;33m\u001b[0m\u001b[1;33m\u001b[0m\u001b[0m\n\u001b[0m\u001b[0;32m   2649\u001b[0m         \u001b[0mindexer\u001b[0m \u001b[1;33m=\u001b[0m \u001b[0mself\u001b[0m\u001b[1;33m.\u001b[0m\u001b[0mget_indexer\u001b[0m\u001b[1;33m(\u001b[0m\u001b[1;33m[\u001b[0m\u001b[0mkey\u001b[0m\u001b[1;33m]\u001b[0m\u001b[1;33m,\u001b[0m \u001b[0mmethod\u001b[0m\u001b[1;33m=\u001b[0m\u001b[0mmethod\u001b[0m\u001b[1;33m,\u001b[0m \u001b[0mtolerance\u001b[0m\u001b[1;33m=\u001b[0m\u001b[0mtolerance\u001b[0m\u001b[1;33m)\u001b[0m\u001b[1;33m\u001b[0m\u001b[1;33m\u001b[0m\u001b[0m\n\u001b[0;32m   2650\u001b[0m         \u001b[1;32mif\u001b[0m \u001b[0mindexer\u001b[0m\u001b[1;33m.\u001b[0m\u001b[0mndim\u001b[0m \u001b[1;33m>\u001b[0m \u001b[1;36m1\u001b[0m \u001b[1;32mor\u001b[0m \u001b[0mindexer\u001b[0m\u001b[1;33m.\u001b[0m\u001b[0msize\u001b[0m \u001b[1;33m>\u001b[0m \u001b[1;36m1\u001b[0m\u001b[1;33m:\u001b[0m\u001b[1;33m\u001b[0m\u001b[1;33m\u001b[0m\u001b[0m\n",
      "\u001b[1;32mpandas\\_libs\\index.pyx\u001b[0m in \u001b[0;36mpandas._libs.index.IndexEngine.get_loc\u001b[1;34m()\u001b[0m\n",
      "\u001b[1;32mpandas\\_libs\\index.pyx\u001b[0m in \u001b[0;36mpandas._libs.index.IndexEngine.get_loc\u001b[1;34m()\u001b[0m\n",
      "\u001b[1;32mpandas\\_libs\\hashtable_class_helper.pxi\u001b[0m in \u001b[0;36mpandas._libs.hashtable.PyObjectHashTable.get_item\u001b[1;34m()\u001b[0m\n",
      "\u001b[1;32mpandas\\_libs\\hashtable_class_helper.pxi\u001b[0m in \u001b[0;36mpandas._libs.hashtable.PyObjectHashTable.get_item\u001b[1;34m()\u001b[0m\n",
      "\u001b[1;31mKeyError\u001b[0m: 'Age'"
     ]
    }
   ],
   "source": [
    "# removing null values from dataset\n",
    "new_customers['Age'].dropna(inplace=True,axis=0)"
   ]
  },
  {
   "cell_type": "markdown",
   "metadata": {},
   "source": [
    "We will drop the value (U) from gender because it is inconsistent with the column values "
   ]
  },
  {
   "cell_type": "code",
   "execution_count": null,
   "metadata": {},
   "outputs": [],
   "source": [
    "# dropping U from Gender\n",
    "new_customers=new_customers[new_customers.gender!='U']"
   ]
  },
  {
   "cell_type": "code",
   "execution_count": null,
   "metadata": {},
   "outputs": [],
   "source": [
    "#changing Date of birth column into date column to extract Age from it\n",
    "new_customers['DOB']=pd.to_datetime(new_customers['DOB'])"
   ]
  },
  {
   "cell_type": "code",
   "execution_count": null,
   "metadata": {},
   "outputs": [],
   "source": [
    "# This function converts given date to age\n",
    "def from_dob_to_age(born):\n",
    "    today = dt.date.today()\n",
    "    return today.year - born.year - ((today.month, today.day) < (born.month, born.day))"
   ]
  },
  {
   "cell_type": "code",
   "execution_count": null,
   "metadata": {},
   "outputs": [],
   "source": [
    "#creating a new Age column in the dataset\n",
    "new_customers['Age']=new_customers['DOB'].apply(lambda x: from_dob_to_age(x))"
   ]
  },
  {
   "cell_type": "code",
   "execution_count": null,
   "metadata": {
    "scrolled": true
   },
   "outputs": [],
   "source": [
    "#checking final results\n",
    "new_customers.head(2)"
   ]
  },
  {
   "cell_type": "code",
   "execution_count": null,
   "metadata": {
    "scrolled": true
   },
   "outputs": [],
   "source": [
    "# changing categorical data columns into binary using one hot coding\n",
    "\n",
    "gender_new=new_customers[['gender']]\n",
    "gender_new=pd.get_dummies(gender_new,drop_first=True)\n",
    "gender_new.head()"
   ]
  },
  {
   "cell_type": "code",
   "execution_count": null,
   "metadata": {
    "scrolled": true
   },
   "outputs": [],
   "source": [
    "# changing job_industry_category_new categorical column into binary using one hot coding\n",
    "\n",
    "job_industry_category_new=new_customers[['job_industry_category']]\n",
    "job_industry_category_new=pd.get_dummies(job_industry_category_new,drop_first=True)\n",
    "job_industry_category_new.head()"
   ]
  },
  {
   "cell_type": "code",
   "execution_count": null,
   "metadata": {},
   "outputs": [],
   "source": [
    "# changing owns_car_new categorical column into binary using one hot coding\n",
    "\n",
    "owns_car_new=new_customers[['owns_car']]\n",
    "owns_car_new=pd.get_dummies(owns_car_new,drop_first=True)\n",
    "owns_car_new.head()"
   ]
  },
  {
   "cell_type": "markdown",
   "metadata": {},
   "source": [
    "Converting wealth_segment column into binary column using label encoder since it is an ordinal category column"
   ]
  },
  {
   "cell_type": "code",
   "execution_count": null,
   "metadata": {},
   "outputs": [],
   "source": [
    "#Transforming using label_encoder\n",
    "\n",
    "from sklearn.preprocessing import LabelEncoder\n",
    "new_customers['wealth_segment']=LabelEncoder().fit_transform(new_customers['wealth_segment'])"
   ]
  },
  {
   "cell_type": "code",
   "execution_count": null,
   "metadata": {},
   "outputs": [],
   "source": [
    "#creating a new dataframe with numerical values only\n",
    "\n",
    "new_customers1=new_customers[['past_3_years_bike_related_purchases','tenure','Age','property_valuation','wealth_segment']]"
   ]
  },
  {
   "cell_type": "code",
   "execution_count": null,
   "metadata": {},
   "outputs": [],
   "source": [
    "#Concatenating transformed categorical columns with the new_customer numerical dataframe\n",
    "\n",
    "new_customers1=pd.concat([gender_new,job_industry_category_new,owns_car_new,new_customers1],axis=1)"
   ]
  },
  {
   "cell_type": "markdown",
   "metadata": {},
   "source": [
    "Now checking for the two transformed datasets"
   ]
  },
  {
   "cell_type": "code",
   "execution_count": null,
   "metadata": {},
   "outputs": [],
   "source": [
    "old_customers1.shape"
   ]
  },
  {
   "cell_type": "code",
   "execution_count": null,
   "metadata": {},
   "outputs": [],
   "source": [
    "old_customers1.info()"
   ]
  },
  {
   "cell_type": "code",
   "execution_count": null,
   "metadata": {},
   "outputs": [],
   "source": [
    "new_customers1.shape"
   ]
  },
  {
   "cell_type": "code",
   "execution_count": null,
   "metadata": {},
   "outputs": [],
   "source": [
    "new_customers1.info()"
   ]
  },
  {
   "cell_type": "markdown",
   "metadata": {},
   "source": [
    "# Model building"
   ]
  },
  {
   "cell_type": "markdown",
   "metadata": {},
   "source": [
    "We will train the ML model on the old customers dataset and predict on the new customers dataset"
   ]
  },
  {
   "cell_type": "code",
   "execution_count": null,
   "metadata": {},
   "outputs": [],
   "source": [
    "# Split our old customers 1 dataset\n",
    "from sklearn.model_selection import train_test_split\n",
    "train_features, test_features, train_labels, test_labels = train_test_split(old_customers1,\n",
    "                                                                            old_customers['RFM_loyalty_level'],\n",
    "                                                                            test_size= 0.25, random_state=10,)"
   ]
  },
  {
   "cell_type": "code",
   "execution_count": null,
   "metadata": {},
   "outputs": [],
   "source": [
    "# Decision tree\n",
    "from sklearn.tree import DecisionTreeClassifier\n",
    "tree = DecisionTreeClassifier(random_state=10)\n",
    "tree.fit(train_features, train_labels)\n",
    "\n",
    "# Predict the labels for the test data\n",
    "pred_labels_tree = tree.predict(test_features)"
   ]
  },
  {
   "cell_type": "code",
   "execution_count": null,
   "metadata": {},
   "outputs": [],
   "source": [
    "# Create the classification report\n",
    "from sklearn.metrics import classification_report\n",
    "class_rep_tree = classification_report(test_labels, pred_labels_tree)"
   ]
  },
  {
   "cell_type": "code",
   "execution_count": null,
   "metadata": {
    "scrolled": false
   },
   "outputs": [],
   "source": [
    "#View the performance of the model\n",
    "print(\"Decision Tree: \\n\", class_rep_tree)"
   ]
  },
  {
   "cell_type": "code",
   "execution_count": null,
   "metadata": {},
   "outputs": [],
   "source": [
    "# Decision RandomForestClassifier\n",
    "from sklearn.ensemble import RandomForestClassifier\n",
    "rs = RandomForestClassifier()\n",
    "rs.fit(train_features, train_labels)\n",
    "\n",
    "# Predict the labels for the test data\n",
    "pred_labels_rs = rs.predict(test_features)"
   ]
  },
  {
   "cell_type": "code",
   "execution_count": null,
   "metadata": {},
   "outputs": [],
   "source": [
    "# Create the classification report\n",
    "class_rep_rs = classification_report(test_labels, pred_labels_rs)"
   ]
  },
  {
   "cell_type": "code",
   "execution_count": null,
   "metadata": {
    "scrolled": false
   },
   "outputs": [],
   "source": [
    "#View the performance of the model\n",
    "print(\"RandomForestClassifier: \\n\", class_rep_rs)"
   ]
  },
  {
   "cell_type": "markdown",
   "metadata": {},
   "source": [
    "now i will use the decision tree model to predict new segments on the new data"
   ]
  },
  {
   "cell_type": "code",
   "execution_count": null,
   "metadata": {},
   "outputs": [],
   "source": [
    "# predict the new segments using decision tree model\n",
    "output_label = tree.predict(new_customers1)"
   ]
  },
  {
   "cell_type": "markdown",
   "metadata": {},
   "source": [
    "Now concatenating the predicted array on the new customers dataset as a dataframe column"
   ]
  },
  {
   "cell_type": "code",
   "execution_count": null,
   "metadata": {},
   "outputs": [],
   "source": [
    "#converting an array into a dataframe column\n",
    "new_customers['RFM_segments_predicted']=output_label.tolist()"
   ]
  },
  {
   "cell_type": "code",
   "execution_count": null,
   "metadata": {},
   "outputs": [],
   "source": [
    "#checking final results\n",
    "new_customers[['first_name','last_name','gender','RFM_segments_predicted']]"
   ]
  }
 ],
 "metadata": {
  "kernelspec": {
   "display_name": "Python 3",
   "language": "python",
   "name": "python3"
  },
  "language_info": {
   "codemirror_mode": {
    "name": "ipython",
    "version": 3
   },
   "file_extension": ".py",
   "mimetype": "text/x-python",
   "name": "python",
   "nbconvert_exporter": "python",
   "pygments_lexer": "ipython3",
   "version": "3.8.3"
  }
 },
 "nbformat": 4,
 "nbformat_minor": 4
}
